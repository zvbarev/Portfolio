{
 "cells": [
  {
   "cell_type": "markdown",
   "metadata": {},
   "source": [
    "\n",
    "## Описание проекта\n",
    "\n",
    "Я работаю в стартапе, который продаёт продукты питания. Нужно разобраться, как ведут себя пользователи нашего мобильного приложения. \n",
    "\n",
    "\n",
    "## Цель проекта\n",
    "\n",
    "* Изучить воронку продаж. \n",
    "* Дизайнеры захотели поменять шрифты во всём приложении. Пользователей разбили на 3 группы: 2 контрольные со старыми шрифтами и одну экспериментальную — с новыми. Необходимо принять решение по результатам A/A/B-теста и выяснить какой шрифт лучше.\n",
    "\n",
    "## Описание данных\n",
    "\n",
    "Каждая запись в логе — это действие пользователя, или событие.\n",
    "\n",
    "Файл /datasets/logs_exp.csv:\n",
    "* EventName — название события;\n",
    "* DeviceIDHash — уникальный идентификатор пользователя;\n",
    "* EventTimestamp — время события;\n",
    "* ExpId — номер эксперимента: 246 и 247 — контрольные группы, а 248 — экспериментальная."
   ]
  },
  {
   "cell_type": "markdown",
   "metadata": {},
   "source": [
    "# Загрузка библиотек и глобальных переменных\n",
    "<a id='id_install'></a>"
   ]
  },
  {
   "cell_type": "code",
   "execution_count": 1,
   "metadata": {},
   "outputs": [],
   "source": [
    "import pandas as pd\n",
    "import numpy as np\n",
    "import warnings\n",
    "\n",
    "import scipy.stats as st\n",
    "import math as mth\n",
    "\n",
    "import matplotlib.pyplot as plt\n",
    "import seaborn as sns\n",
    "\n",
    "from numpy import percentile"
   ]
  },
  {
   "cell_type": "code",
   "execution_count": 2,
   "metadata": {},
   "outputs": [],
   "source": [
    "pd.options.display.float_format = '{: .2f}'.format # отображение 2 знаков после запятой в float\n",
    "pd.options.display.max_rows = None\n",
    "pd.options.display.max_columns = None\n",
    "\n",
    "warnings.filterwarnings(\"ignore\", category=RuntimeWarning)"
   ]
  },
  {
   "cell_type": "markdown",
   "metadata": {},
   "source": [
    "# Пользовательские функции"
   ]
  },
  {
   "cell_type": "markdown",
   "metadata": {},
   "source": [
    "Общие ф-ции для проектов анализа данных:"
   ]
  },
  {
   "cell_type": "code",
   "execution_count": 3,
   "metadata": {},
   "outputs": [],
   "source": [
    "# ф-ция приведения названий столбцов в змеиный регистр\n",
    "def make_snake_columns(df):\n",
    "    df.columns = df.columns.str.lower().str.replace(' ', '_')\n",
    "    return df\n",
    "\n",
    "\n",
    "# функция первичной проверки данных\n",
    "def check_data(data_df):\n",
    "    print ('\\033[1m' + 'Изучим исходные данные'+ '\\033[0m')\n",
    "    data_df.info()\n",
    "    print('\\nРазмер датасета:', data_df.shape)\n",
    "\n",
    "    missed_cells = data_df.isnull().sum().sum()/(data_df.shape[0]*(data_df.shape[1]-1))\n",
    "    missed_rows = sum(data_df.isnull().sum(axis = 1)>0)/data_df.shape[0]\n",
    "    print('\\033[1m' + '\\nПроверка пропусков'+ '\\033[0m')\n",
    "    print('Количество пропусков: {:.0f}'.format(data_df.isnull().sum().sum()))\n",
    "    print('Доля пропусков: {:.1%}'.format(missed_cells)+ '\\033[0m')\n",
    "    print('Доля строк содержащих пропуски: {:.1%}'.format(missed_rows))\n",
    "\n",
    "    # Проверим дубликаты\n",
    "    print ('\\033[1m' + '\\nПроверка на дубликаты'+ '\\033[0m')\n",
    "    print('Количество полных дубликатов: ', data_df.duplicated().sum())\n",
    "\n",
    "    # Посмотрим на сами данные\n",
    "    print ('\\033[1m' + '\\nПервые 5 строк датасета'+ '\\033[0m')\n",
    "    display(data_df.head())\n",
    "\n",
    "    # Списки количественных и категориальных столбцов\n",
    "    numeric_columns = list(data_df.select_dtypes(include=['number']).columns)\n",
    "    categorical_columns = data_df.select_dtypes(include=['object']).columns\n",
    "\n",
    "    print('\\033[1m' + '\\nОписание количественных данных:'+ '\\033[0m')\n",
    "    display(data_df.describe().T)\n",
    "\n",
    "    if len(categorical_columns) > 0: # проверка на наличие категориальных столбцов\n",
    "        print('\\033[1m' + '\\nОписание категориальных данных:'+ '\\033[0m')\n",
    "        display(data_df.describe(include='object').T)\n",
    "\n",
    "        print('\\033[1m' + '\\nВывод уникальных значений по каждому категориальному признаку:'+ '\\033[0m')\n",
    "        for i in categorical_columns:\n",
    "            print('\\033[1m' + str(i) + '\\033[0m')\n",
    "            display(data_df[i].value_counts())"
   ]
  },
  {
   "cell_type": "markdown",
   "metadata": {},
   "source": [
    "Ф-ции для этого проекта"
   ]
  },
  {
   "cell_type": "code",
   "execution_count": 4,
   "metadata": {},
   "outputs": [],
   "source": [
    "\n",
    "# ф-ция для проведения z-теста и получения p-значения\n",
    "# возвращает p-значение а также печатает результат теста в случае установки is_print=True (отключено по умолчанию)\n",
    "def z_test(successes1, trials1, \n",
    "           successes2, trials2, \n",
    "           alpha, \n",
    "           is_print=False # печатать результат?\n",
    "           ):\n",
    "    \n",
    "    p1 = successes1/trials1 # пропорция успехов в первой группе\n",
    "    p2 = successes2/trials2 # пропорция успехов во второй группе\n",
    "    p_combined = (successes1 + successes2) / (trials1 + trials2)  # пропорция успехов в комбинированном датасете\n",
    "    difference = p1 - p2 # разница пропорций в датасетах\n",
    "\n",
    "    # считаем статистику в ст.отклонениях стандартного нормального распределения\n",
    "    z_value = difference / mth.sqrt(p_combined * (1 - p_combined) * (1/trials1 + 1/trials2))\n",
    "\n",
    "    # задаем стандартное нормальное распределение (среднее 0, ст.отклонение 1)\n",
    "    distr = st.norm(0, 1)  \n",
    "\n",
    "    p_value = (1 - distr.cdf(abs(z_value))) * 2 # тест двусторонний, поэтому удваиваем результат\n",
    "    \n",
    "    if(is_print): # печать результатов\n",
    "\n",
    "        print('p-значение: ', p_value)\n",
    "\n",
    "        if p_value < alpha:\n",
    "            print('Отвергаем нулевую гипотезу: между долями есть значимая разница')\n",
    "        else:\n",
    "            print('Не получилось отвергнуть нулевую гипотезу, нет оснований считать доли разными')\n",
    "            \n",
    "    return p_value"
   ]
  },
  {
   "cell_type": "markdown",
   "metadata": {},
   "source": [
    "# Загрузка данных"
   ]
  },
  {
   "cell_type": "code",
   "execution_count": 5,
   "metadata": {},
   "outputs": [],
   "source": [
    "url = 'https://code.s3.yandex.net/datasets/'\n",
    "\n",
    "df  = pd.read_csv(url + 'logs_exp.csv', sep='\\t') # логи    \n"
   ]
  },
  {
   "cell_type": "markdown",
   "metadata": {},
   "source": [
    "# Первичный осмотр данных"
   ]
  },
  {
   "cell_type": "code",
   "execution_count": 6,
   "metadata": {},
   "outputs": [
    {
     "name": "stdout",
     "output_type": "stream",
     "text": [
      "\u001b[1mИзучим исходные данные\u001b[0m\n",
      "<class 'pandas.core.frame.DataFrame'>\n",
      "RangeIndex: 244126 entries, 0 to 244125\n",
      "Data columns (total 4 columns):\n",
      " #   Column          Non-Null Count   Dtype \n",
      "---  ------          --------------   ----- \n",
      " 0   EventName       244126 non-null  object\n",
      " 1   DeviceIDHash    244126 non-null  int64 \n",
      " 2   EventTimestamp  244126 non-null  int64 \n",
      " 3   ExpId           244126 non-null  int64 \n",
      "dtypes: int64(3), object(1)\n",
      "memory usage: 7.5+ MB\n",
      "\n",
      "Размер датасета: (244126, 4)\n",
      "\u001b[1m\n",
      "Проверка пропусков\u001b[0m\n",
      "Количество пропусков: 0\n",
      "Доля пропусков: 0.0%\u001b[0m\n",
      "Доля строк содержащих пропуски: 0.0%\n",
      "\u001b[1m\n",
      "Проверка на дубликаты\u001b[0m\n",
      "Количество полных дубликатов:  413\n",
      "\u001b[1m\n",
      "Первые 5 строк датасета\u001b[0m\n"
     ]
    },
    {
     "data": {
      "text/html": [
       "<div>\n",
       "<style scoped>\n",
       "    .dataframe tbody tr th:only-of-type {\n",
       "        vertical-align: middle;\n",
       "    }\n",
       "\n",
       "    .dataframe tbody tr th {\n",
       "        vertical-align: top;\n",
       "    }\n",
       "\n",
       "    .dataframe thead th {\n",
       "        text-align: right;\n",
       "    }\n",
       "</style>\n",
       "<table border=\"1\" class=\"dataframe\">\n",
       "  <thead>\n",
       "    <tr style=\"text-align: right;\">\n",
       "      <th></th>\n",
       "      <th>EventName</th>\n",
       "      <th>DeviceIDHash</th>\n",
       "      <th>EventTimestamp</th>\n",
       "      <th>ExpId</th>\n",
       "    </tr>\n",
       "  </thead>\n",
       "  <tbody>\n",
       "    <tr>\n",
       "      <th>0</th>\n",
       "      <td>MainScreenAppear</td>\n",
       "      <td>4575588528974610257</td>\n",
       "      <td>1564029816</td>\n",
       "      <td>246</td>\n",
       "    </tr>\n",
       "    <tr>\n",
       "      <th>1</th>\n",
       "      <td>MainScreenAppear</td>\n",
       "      <td>7416695313311560658</td>\n",
       "      <td>1564053102</td>\n",
       "      <td>246</td>\n",
       "    </tr>\n",
       "    <tr>\n",
       "      <th>2</th>\n",
       "      <td>PaymentScreenSuccessful</td>\n",
       "      <td>3518123091307005509</td>\n",
       "      <td>1564054127</td>\n",
       "      <td>248</td>\n",
       "    </tr>\n",
       "    <tr>\n",
       "      <th>3</th>\n",
       "      <td>CartScreenAppear</td>\n",
       "      <td>3518123091307005509</td>\n",
       "      <td>1564054127</td>\n",
       "      <td>248</td>\n",
       "    </tr>\n",
       "    <tr>\n",
       "      <th>4</th>\n",
       "      <td>PaymentScreenSuccessful</td>\n",
       "      <td>6217807653094995999</td>\n",
       "      <td>1564055322</td>\n",
       "      <td>248</td>\n",
       "    </tr>\n",
       "  </tbody>\n",
       "</table>\n",
       "</div>"
      ],
      "text/plain": [
       "                 EventName         DeviceIDHash  EventTimestamp  ExpId\n",
       "0         MainScreenAppear  4575588528974610257      1564029816    246\n",
       "1         MainScreenAppear  7416695313311560658      1564053102    246\n",
       "2  PaymentScreenSuccessful  3518123091307005509      1564054127    248\n",
       "3         CartScreenAppear  3518123091307005509      1564054127    248\n",
       "4  PaymentScreenSuccessful  6217807653094995999      1564055322    248"
      ]
     },
     "metadata": {},
     "output_type": "display_data"
    },
    {
     "name": "stdout",
     "output_type": "stream",
     "text": [
      "\u001b[1m\n",
      "Описание количественных данных:\u001b[0m\n"
     ]
    },
    {
     "data": {
      "text/html": [
       "<div>\n",
       "<style scoped>\n",
       "    .dataframe tbody tr th:only-of-type {\n",
       "        vertical-align: middle;\n",
       "    }\n",
       "\n",
       "    .dataframe tbody tr th {\n",
       "        vertical-align: top;\n",
       "    }\n",
       "\n",
       "    .dataframe thead th {\n",
       "        text-align: right;\n",
       "    }\n",
       "</style>\n",
       "<table border=\"1\" class=\"dataframe\">\n",
       "  <thead>\n",
       "    <tr style=\"text-align: right;\">\n",
       "      <th></th>\n",
       "      <th>count</th>\n",
       "      <th>mean</th>\n",
       "      <th>std</th>\n",
       "      <th>min</th>\n",
       "      <th>25%</th>\n",
       "      <th>50%</th>\n",
       "      <th>75%</th>\n",
       "      <th>max</th>\n",
       "    </tr>\n",
       "  </thead>\n",
       "  <tbody>\n",
       "    <tr>\n",
       "      <th>DeviceIDHash</th>\n",
       "      <td>244126.00</td>\n",
       "      <td>4627568124591259648.00</td>\n",
       "      <td>2642424998963961856.00</td>\n",
       "      <td>6888746892508752.00</td>\n",
       "      <td>2372212476992240640.00</td>\n",
       "      <td>4623191541214045184.00</td>\n",
       "      <td>6932517045703054336.00</td>\n",
       "      <td>9222603179720523776.00</td>\n",
       "    </tr>\n",
       "    <tr>\n",
       "      <th>EventTimestamp</th>\n",
       "      <td>244126.00</td>\n",
       "      <td>1564913915.84</td>\n",
       "      <td>177134.32</td>\n",
       "      <td>1564029816.00</td>\n",
       "      <td>1564756580.25</td>\n",
       "      <td>1564919395.00</td>\n",
       "      <td>1565074511.00</td>\n",
       "      <td>1565212517.00</td>\n",
       "    </tr>\n",
       "    <tr>\n",
       "      <th>ExpId</th>\n",
       "      <td>244126.00</td>\n",
       "      <td>247.02</td>\n",
       "      <td>0.82</td>\n",
       "      <td>246.00</td>\n",
       "      <td>246.00</td>\n",
       "      <td>247.00</td>\n",
       "      <td>248.00</td>\n",
       "      <td>248.00</td>\n",
       "    </tr>\n",
       "  </tbody>\n",
       "</table>\n",
       "</div>"
      ],
      "text/plain": [
       "                    count                    mean                     std  \\\n",
       "DeviceIDHash    244126.00  4627568124591259648.00  2642424998963961856.00   \n",
       "EventTimestamp  244126.00           1564913915.84               177134.32   \n",
       "ExpId           244126.00                  247.02                    0.82   \n",
       "\n",
       "                                min                     25%  \\\n",
       "DeviceIDHash    6888746892508752.00  2372212476992240640.00   \n",
       "EventTimestamp        1564029816.00           1564756580.25   \n",
       "ExpId                        246.00                  246.00   \n",
       "\n",
       "                                   50%                     75%  \\\n",
       "DeviceIDHash    4623191541214045184.00  6932517045703054336.00   \n",
       "EventTimestamp           1564919395.00           1565074511.00   \n",
       "ExpId                           247.00                  248.00   \n",
       "\n",
       "                                   max  \n",
       "DeviceIDHash    9222603179720523776.00  \n",
       "EventTimestamp           1565212517.00  \n",
       "ExpId                           248.00  "
      ]
     },
     "metadata": {},
     "output_type": "display_data"
    },
    {
     "name": "stdout",
     "output_type": "stream",
     "text": [
      "\u001b[1m\n",
      "Описание категориальных данных:\u001b[0m\n"
     ]
    },
    {
     "data": {
      "text/html": [
       "<div>\n",
       "<style scoped>\n",
       "    .dataframe tbody tr th:only-of-type {\n",
       "        vertical-align: middle;\n",
       "    }\n",
       "\n",
       "    .dataframe tbody tr th {\n",
       "        vertical-align: top;\n",
       "    }\n",
       "\n",
       "    .dataframe thead th {\n",
       "        text-align: right;\n",
       "    }\n",
       "</style>\n",
       "<table border=\"1\" class=\"dataframe\">\n",
       "  <thead>\n",
       "    <tr style=\"text-align: right;\">\n",
       "      <th></th>\n",
       "      <th>count</th>\n",
       "      <th>unique</th>\n",
       "      <th>top</th>\n",
       "      <th>freq</th>\n",
       "    </tr>\n",
       "  </thead>\n",
       "  <tbody>\n",
       "    <tr>\n",
       "      <th>EventName</th>\n",
       "      <td>244126</td>\n",
       "      <td>5</td>\n",
       "      <td>MainScreenAppear</td>\n",
       "      <td>119205</td>\n",
       "    </tr>\n",
       "  </tbody>\n",
       "</table>\n",
       "</div>"
      ],
      "text/plain": [
       "            count unique               top    freq\n",
       "EventName  244126      5  MainScreenAppear  119205"
      ]
     },
     "metadata": {},
     "output_type": "display_data"
    },
    {
     "name": "stdout",
     "output_type": "stream",
     "text": [
      "\u001b[1m\n",
      "Вывод уникальных значений по каждому категориальному признаку:\u001b[0m\n",
      "\u001b[1mEventName\u001b[0m\n"
     ]
    },
    {
     "data": {
      "text/plain": [
       "EventName\n",
       "MainScreenAppear           119205\n",
       "OffersScreenAppear          46825\n",
       "CartScreenAppear            42731\n",
       "PaymentScreenSuccessful     34313\n",
       "Tutorial                     1052\n",
       "Name: count, dtype: int64"
      ]
     },
     "metadata": {},
     "output_type": "display_data"
    }
   ],
   "source": [
    "check_data(df)"
   ]
  },
  {
   "cell_type": "markdown",
   "metadata": {},
   "source": [
    "**Краткие итоги:**\n",
    "\n",
    "Результат первичного осмотра датасета:\n",
    "* Проверка пропусков - Количество пропусков: 0\n",
    "* Проверка на дубликаты - Количество полных дубликатов:  413\n",
    "* В столбце EventName находятся категориальные данные, имеющие 5 значений: MainScreenAppear, OffersScreenAppear, CartScreenAppear, PaymentScreenSuccessful и Tutorial \n",
    "* В столбце EventTimestamp находятся даты в формате timestamp\n",
    "\n",
    "**Вывод:**\n",
    "* Требуется удаление дубликатов\n",
    "* Требуется приведение названий столбцов в змеиный регистр\n",
    "* Требуется обработка для использования данных в столбце EventTimestamp\n"
   ]
  },
  {
   "cell_type": "markdown",
   "metadata": {},
   "source": [
    "# Подготовка данных\n",
    "\n",
    "- Заменим названия столбцов на удобные для нас;\n",
    "- Проверим пропуски и типы данных. Откорректируем, если нужно;\n",
    "- Добавим столбец даты и времени, а также отдельный столбец дат;"
   ]
  },
  {
   "cell_type": "code",
   "execution_count": 7,
   "metadata": {},
   "outputs": [
    {
     "name": "stdout",
     "output_type": "stream",
     "text": [
      "['EventName', 'DeviceIDHash', 'EventTimestamp', 'ExpId']\n",
      "['event_name', 'device_id_hash', 'event_timestamp', 'exp_id']\n"
     ]
    }
   ],
   "source": [
    "print(list(df.columns))\n",
    "df.columns = ['event_name', 'device_id_hash', 'event_timestamp', 'exp_id']\n",
    "print(list(df.columns))"
   ]
  },
  {
   "cell_type": "code",
   "execution_count": 8,
   "metadata": {},
   "outputs": [
    {
     "name": "stdout",
     "output_type": "stream",
     "text": [
      "Удалено полных дубликатов: 413, это составляет 0.17% от исходного количества строк\n",
      "Количество полных дубликатов:  0\n"
     ]
    }
   ],
   "source": [
    "duplicates_before = df.duplicated().sum()\n",
    "rows_before = len(df)\n",
    "\n",
    "df = df.drop_duplicates()\n",
    "print(f'Удалено полных дубликатов: {duplicates_before}, это составляет {(duplicates_before/rows_before):.2%} от исходного количества строк')\n",
    "print('Количество полных дубликатов: ', df.duplicated().sum())"
   ]
  },
  {
   "cell_type": "code",
   "execution_count": 9,
   "metadata": {},
   "outputs": [
    {
     "name": "stdout",
     "output_type": "stream",
     "text": [
      "<class 'pandas.core.frame.DataFrame'>\n",
      "Index: 243713 entries, 0 to 244125\n",
      "Data columns (total 6 columns):\n",
      " #   Column           Non-Null Count   Dtype        \n",
      "---  ------           --------------   -----        \n",
      " 0   event_name       243713 non-null  object       \n",
      " 1   device_id_hash   243713 non-null  int64        \n",
      " 2   event_timestamp  243713 non-null  int64        \n",
      " 3   exp_id           243713 non-null  int64        \n",
      " 4   date_time        243713 non-null  datetime64[s]\n",
      " 5   date             243713 non-null  datetime64[s]\n",
      "dtypes: datetime64[s](2), int64(3), object(1)\n",
      "memory usage: 13.0+ MB\n"
     ]
    }
   ],
   "source": [
    "\n",
    "df['date_time'] = df['event_timestamp'].astype('datetime64[s]')\n",
    "df['date'] = df['date_time'].dt.normalize()\n",
    "\n",
    "# df.head()\n",
    "df.info()"
   ]
  },
  {
   "cell_type": "markdown",
   "metadata": {},
   "source": [
    "**Вывод:**\n",
    "* Названия столбцов приведены в змеиный регистр;\n",
    "* Удалены дубликаты\n",
    "* Добавлен столбец даты и времени, а также отдельный столбец дат;"
   ]
  },
  {
   "cell_type": "markdown",
   "metadata": {},
   "source": [
    "# Изучение и проверка данных\n",
    "\n",
    "Ответим на следующие вопросы:\n",
    "- Сколько всего событий в логе?\n",
    "- Сколько всего пользователей в логе?\n",
    "- Сколько в среднем событий приходится на пользователя?"
   ]
  },
  {
   "cell_type": "code",
   "execution_count": 10,
   "metadata": {},
   "outputs": [
    {
     "name": "stdout",
     "output_type": "stream",
     "text": [
      "Всего событий в логе: 243713, уникальных событий: 5\n",
      "Виды событий: ['CartScreenAppear' 'MainScreenAppear' 'OffersScreenAppear'\n",
      " 'PaymentScreenSuccessful' 'Tutorial']\n",
      "Всего пользователей в логе: 7551\n",
      "В среднем на пользователя приходится 32.28 события\n"
     ]
    }
   ],
   "source": [
    "print(f\"Всего событий в логе: {len(df)}, уникальных событий: {df['event_name'].nunique()}\")\n",
    "print(f\"Виды событий: {np.unique(df['event_name'])}\")\n",
    "print(f\"Всего пользователей в логе: {df['device_id_hash'].nunique()}\")\n",
    "print(f\"В среднем на пользователя приходится {( len(df) / df['device_id_hash'].nunique()):.2f} события\")"
   ]
  },
  {
   "cell_type": "markdown",
   "metadata": {},
   "source": [
    "Теперь нам необходимо узнать:\n",
    "- Данными за какой период мы располагаем? Найдем максимальную и минимальную дату. Построим гистограмму по дате и времени.\n",
    "- Можно ли быть уверенным, что у нас одинаково полные данные за весь период? Технически в логи новых дней по некоторым пользователям могут «доезжать» события из прошлого — это может «перекашивать данные».\n",
    "- Определим, с какого момента данные полные и отбросим более старые. Данными за какой период времени мы располагаем на самом деле?"
   ]
  },
  {
   "cell_type": "code",
   "execution_count": 11,
   "metadata": {},
   "outputs": [
    {
     "data": {
      "image/png": "[encoded data removed]",
      "text/plain": [
       "<Figure size 1000x700 with 1 Axes>"
      ]
     },
     "metadata": {},
     "output_type": "display_data"
    },
    {
     "name": "stdout",
     "output_type": "stream",
     "text": [
      "Минимальная дата: 2019-07-25 04:43:36, максимальная дата: 2019-08-07 21:15:17\n",
      "Q1: 2019-08-02 14:36:45, Q3: 2019-08-06 06:56:24\n"
     ]
    }
   ],
   "source": [
    "\n",
    "# fig, (ax0, ax1) = plt.subplots(nrows=1,ncols=2, figsize=(20, 7))\n",
    "fig, ax0 = plt.subplots(figsize=(10, 7))\n",
    "\n",
    "df['date_time'].hist(ax=ax0, xrot=30, bins=100)\n",
    "ax0.set(xlabel='Даты', ylabel='Частота', title='Гистограмма по дате и времени')\n",
    "\n",
    "# sns.boxplot(data=df['date_time'], ax=ax1, orient='h')\n",
    "# ax1.set(xlabel='Даты', ylabel='Частота', title='Диаграмма размаха по дате и времени')\n",
    "# plt.xticks(rotation=30)\n",
    "plt.show()\n",
    " \n",
    "print(f\"Минимальная дата: {df['date_time'].min()}, максимальная дата: {df['date_time'].max()}\")\n",
    "print(f\"Q1: {df['date_time'].quantile ( 0.25 )}, Q3: {df['date_time'].quantile ( 0.75 )}\")\n"
   ]
  },
  {
   "cell_type": "markdown",
   "metadata": {},
   "source": [
    "Исходя из диаграмм, можно утверждать что большинство событий приходится на интервал с 2019-08-01. \n",
    "Отбросим нерелевантные данные из прошлого и посмотрим много ли событий и пользователей мы потеряли, отбросив старые данные."
   ]
  },
  {
   "cell_type": "code",
   "execution_count": 12,
   "metadata": {},
   "outputs": [
    {
     "name": "stdout",
     "output_type": "stream",
     "text": [
      "Удалено 2826 событий, что составляет 1.16% от исходного количества событий\n",
      "Удалено 17 пользователей, что составляет 0.23% от исходного количества пользователей\n",
      "Минимальная дата: 2019-08-01 00:00:00, максимальная дата: 2019-08-07 00:00:00\n"
     ]
    }
   ],
   "source": [
    "events_before = len(df)\n",
    "users_count_before = df['device_id_hash'].nunique()\n",
    "\n",
    "df = df.query(\"date >= '2019-08-01'\") \n",
    "\n",
    "print(f\"Удалено {events_before - len(df)} событий, что составляет {((events_before - len(df))/events_before):.2%} от исходного количества событий\")\n",
    "print(f\"Удалено {users_count_before - df['device_id_hash'].nunique()} пользователей, \\\n",
    "что составляет {((users_count_before - df['device_id_hash'].nunique())/users_count_before):.2%} от исходного количества пользователей\")\n",
    "print(f\"Минимальная дата: {df['date'].min()}, максимальная дата: {df['date'].max()}\")"
   ]
  },
  {
   "cell_type": "markdown",
   "metadata": {},
   "source": [
    "Проверим, что у нас есть пользователи из всех трёх экспериментальных групп."
   ]
  },
  {
   "cell_type": "code",
   "execution_count": 13,
   "metadata": {},
   "outputs": [
    {
     "data": {
      "text/html": [
       "<div>\n",
       "<style scoped>\n",
       "    .dataframe tbody tr th:only-of-type {\n",
       "        vertical-align: middle;\n",
       "    }\n",
       "\n",
       "    .dataframe tbody tr th {\n",
       "        vertical-align: top;\n",
       "    }\n",
       "\n",
       "    .dataframe thead th {\n",
       "        text-align: right;\n",
       "    }\n",
       "</style>\n",
       "<table border=\"1\" class=\"dataframe\">\n",
       "  <thead>\n",
       "    <tr style=\"text-align: right;\">\n",
       "      <th></th>\n",
       "      <th>device_id_hash</th>\n",
       "    </tr>\n",
       "    <tr>\n",
       "      <th>exp_id</th>\n",
       "      <th></th>\n",
       "    </tr>\n",
       "  </thead>\n",
       "  <tbody>\n",
       "    <tr>\n",
       "      <th>246</th>\n",
       "      <td>2484</td>\n",
       "    </tr>\n",
       "    <tr>\n",
       "      <th>247</th>\n",
       "      <td>2513</td>\n",
       "    </tr>\n",
       "    <tr>\n",
       "      <th>248</th>\n",
       "      <td>2537</td>\n",
       "    </tr>\n",
       "  </tbody>\n",
       "</table>\n",
       "</div>"
      ],
      "text/plain": [
       "        device_id_hash\n",
       "exp_id                \n",
       "246               2484\n",
       "247               2513\n",
       "248               2537"
      ]
     },
     "execution_count": 13,
     "metadata": {},
     "output_type": "execute_result"
    }
   ],
   "source": [
    "df.groupby('exp_id').agg({'device_id_hash':'nunique'})"
   ]
  },
  {
   "cell_type": "markdown",
   "metadata": {},
   "source": [
    "Проверим не попадают ли какие-то пользователи в несколько групп"
   ]
  },
  {
   "cell_type": "code",
   "execution_count": 14,
   "metadata": {},
   "outputs": [
    {
     "name": "stdout",
     "output_type": "stream",
     "text": [
      "Количество пользователей, которые присутствуют в нескольких группах:  0\n",
      "Это составляет 0.00% от общего количества пользователей\n"
     ]
    }
   ],
   "source": [
    "# проверка не попадают ли какие-то пользователи в несколько групп \n",
    "visitors_in_2groups = df.groupby('device_id_hash').agg({'exp_id' : 'nunique'}).query('exp_id > 1').reset_index() \n",
    "# print(visitors_in_2groups.head())\n",
    "\n",
    "print('Количество пользователей, которые присутствуют в нескольких группах: ', len(visitors_in_2groups))\n",
    "print(f\"Это составляет {(len(visitors_in_2groups)/df['device_id_hash'].nunique()):.2%} от общего количества пользователей\")"
   ]
  },
  {
   "cell_type": "markdown",
   "metadata": {},
   "source": [
    "**Вывод:**\n",
    "* Минимальная дата: 2019-07-25, максимальная дата: 2019-08-07\n",
    "* Исходя из диаграмм, можно утверждать что большинство событий приходится на интервал с 2019-08-01, поэтому можно удалить нерелевантные данные за ранние даты\n",
    "* Удалено 2826 событий, что составляет 1.2% от исходного количества событий\n",
    "* Удалено 17 пользователей, что составляет 0.2% от исходного количества пользователей\n",
    "* Количество пользователей, которые присутствуют в нескольких группах:  0\n",
    "* В датасете присутствуют пользователи из всех трёх экспериментальных групп."
   ]
  },
  {
   "cell_type": "markdown",
   "metadata": {},
   "source": [
    "# Изучение воронки событий\n",
    "\n",
    "Посмотрим, какие события есть в логах, как часто они встречаются. Отсортируем события по частоте."
   ]
  },
  {
   "cell_type": "code",
   "execution_count": 15,
   "metadata": {},
   "outputs": [
    {
     "data": {
      "text/plain": [
       "event_name\n",
       "MainScreenAppear           0.49\n",
       "OffersScreenAppear         0.19\n",
       "CartScreenAppear           0.18\n",
       "PaymentScreenSuccessful    0.14\n",
       "Tutorial                   0.00\n",
       "Name: proportion, dtype: float64"
      ]
     },
     "execution_count": 15,
     "metadata": {},
     "output_type": "execute_result"
    }
   ],
   "source": [
    "df['event_name'].value_counts(normalize=True)"
   ]
  },
  {
   "cell_type": "markdown",
   "metadata": {},
   "source": [
    "Посчитаем, сколько пользователей совершали каждое из этих событий. Отсортируем события по числу пользователей. Посчитаем долю пользователей, которые хоть раз совершали событие."
   ]
  },
  {
   "cell_type": "code",
   "execution_count": 16,
   "metadata": {},
   "outputs": [
    {
     "data": {
      "text/html": [
       "<div>\n",
       "<style scoped>\n",
       "    .dataframe tbody tr th:only-of-type {\n",
       "        vertical-align: middle;\n",
       "    }\n",
       "\n",
       "    .dataframe tbody tr th {\n",
       "        vertical-align: top;\n",
       "    }\n",
       "\n",
       "    .dataframe thead th {\n",
       "        text-align: right;\n",
       "    }\n",
       "</style>\n",
       "<table border=\"1\" class=\"dataframe\">\n",
       "  <thead>\n",
       "    <tr style=\"text-align: right;\">\n",
       "      <th></th>\n",
       "      <th>event_name</th>\n",
       "      <th>device_id_hash</th>\n",
       "    </tr>\n",
       "  </thead>\n",
       "  <tbody>\n",
       "    <tr>\n",
       "      <th>1</th>\n",
       "      <td>MainScreenAppear</td>\n",
       "      <td>0.37</td>\n",
       "    </tr>\n",
       "    <tr>\n",
       "      <th>2</th>\n",
       "      <td>OffersScreenAppear</td>\n",
       "      <td>0.23</td>\n",
       "    </tr>\n",
       "    <tr>\n",
       "      <th>0</th>\n",
       "      <td>CartScreenAppear</td>\n",
       "      <td>0.19</td>\n",
       "    </tr>\n",
       "    <tr>\n",
       "      <th>3</th>\n",
       "      <td>PaymentScreenSuccessful</td>\n",
       "      <td>0.18</td>\n",
       "    </tr>\n",
       "    <tr>\n",
       "      <th>4</th>\n",
       "      <td>Tutorial</td>\n",
       "      <td>0.04</td>\n",
       "    </tr>\n",
       "  </tbody>\n",
       "</table>\n",
       "</div>"
      ],
      "text/plain": [
       "                event_name  device_id_hash\n",
       "1         MainScreenAppear            0.37\n",
       "2       OffersScreenAppear            0.23\n",
       "0         CartScreenAppear            0.19\n",
       "3  PaymentScreenSuccessful            0.18\n",
       "4                 Tutorial            0.04"
      ]
     },
     "execution_count": 16,
     "metadata": {},
     "output_type": "execute_result"
    }
   ],
   "source": [
    "\n",
    "( df.groupby('event_name')['device_id_hash'].nunique() / df.groupby('event_name')['device_id_hash'].nunique().sum()\n",
    ").reset_index().sort_values(by='device_id_hash', ascending=False)"
   ]
  },
  {
   "cell_type": "markdown",
   "metadata": {},
   "source": [
    "Предположим, в каком порядке происходят события. Все ли они выстраиваются в последовательную цепочку? Их не нужно учитывать при расчёте воронки.\n",
    "\n",
    "По воронке событий посчитаем, какая доля пользователей проходит на следующий шаг воронки (от числа пользователей на предыдущем). То есть для последовательности событий A → B → C посчитаем отношение числа пользователей с событием B к количеству пользователей с событием A, а также отношение числа пользователей с событием C к количеству пользователей с событием B.\n",
    "\n",
    "Ответим на следующие вопросы:\n",
    "- На каком шаге мы теряем больше всего пользователей?\n",
    "- Какая доля пользователей доходит от первого события до оплаты?"
   ]
  },
  {
   "cell_type": "code",
   "execution_count": 17,
   "metadata": {},
   "outputs": [
    {
     "data": {
      "text/html": [
       "<div>\n",
       "<style scoped>\n",
       "    .dataframe tbody tr th:only-of-type {\n",
       "        vertical-align: middle;\n",
       "    }\n",
       "\n",
       "    .dataframe tbody tr th {\n",
       "        vertical-align: top;\n",
       "    }\n",
       "\n",
       "    .dataframe thead th {\n",
       "        text-align: right;\n",
       "    }\n",
       "</style>\n",
       "<table border=\"1\" class=\"dataframe\">\n",
       "  <thead>\n",
       "    <tr style=\"text-align: right;\">\n",
       "      <th></th>\n",
       "      <th>event_name</th>\n",
       "      <th>device_id_hash</th>\n",
       "      <th>percent_from_prev</th>\n",
       "      <th>percent_from_first</th>\n",
       "    </tr>\n",
       "  </thead>\n",
       "  <tbody>\n",
       "    <tr>\n",
       "      <th>0</th>\n",
       "      <td>MainScreenAppear</td>\n",
       "      <td>7419</td>\n",
       "      <td>NaN</td>\n",
       "      <td>1.00</td>\n",
       "    </tr>\n",
       "    <tr>\n",
       "      <th>1</th>\n",
       "      <td>OffersScreenAppear</td>\n",
       "      <td>4593</td>\n",
       "      <td>0.62</td>\n",
       "      <td>0.62</td>\n",
       "    </tr>\n",
       "    <tr>\n",
       "      <th>2</th>\n",
       "      <td>CartScreenAppear</td>\n",
       "      <td>3734</td>\n",
       "      <td>0.81</td>\n",
       "      <td>0.50</td>\n",
       "    </tr>\n",
       "    <tr>\n",
       "      <th>3</th>\n",
       "      <td>PaymentScreenSuccessful</td>\n",
       "      <td>3539</td>\n",
       "      <td>0.95</td>\n",
       "      <td>0.48</td>\n",
       "    </tr>\n",
       "    <tr>\n",
       "      <th>4</th>\n",
       "      <td>Tutorial</td>\n",
       "      <td>840</td>\n",
       "      <td>0.24</td>\n",
       "      <td>0.11</td>\n",
       "    </tr>\n",
       "  </tbody>\n",
       "</table>\n",
       "</div>"
      ],
      "text/plain": [
       "                event_name  device_id_hash  percent_from_prev  \\\n",
       "0         MainScreenAppear            7419                NaN   \n",
       "1       OffersScreenAppear            4593               0.62   \n",
       "2         CartScreenAppear            3734               0.81   \n",
       "3  PaymentScreenSuccessful            3539               0.95   \n",
       "4                 Tutorial             840               0.24   \n",
       "\n",
       "   percent_from_first  \n",
       "0                1.00  \n",
       "1                0.62  \n",
       "2                0.50  \n",
       "3                0.48  \n",
       "4                0.11  "
      ]
     },
     "execution_count": 17,
     "metadata": {},
     "output_type": "execute_result"
    }
   ],
   "source": [
    "users_count = df.groupby(['event_name']).agg({'device_id_hash': 'nunique'}).sort_values(by='device_id_hash', ascending=False).reset_index()\n",
    "users_count['percent_from_prev'] = users_count['device_id_hash'] / users_count['device_id_hash'].shift(1)\n",
    "users_count['percent_from_first'] = users_count['device_id_hash'] / users_count.loc[0, 'device_id_hash']\n",
    "# users_count['percent_from_prev'] = users_count['users_percent'].fillna(0)\n",
    "\n",
    "users_count"
   ]
  },
  {
   "cell_type": "markdown",
   "metadata": {},
   "source": [
    "Выведем воронку событий на график"
   ]
  },
  {
   "cell_type": "code",
   "execution_count": 18,
   "metadata": {},
   "outputs": [
    {
     "data": {
      "application/vnd.plotly.v1+json": {
       "config": {
        "plotlyServerURL": "https://plot.ly"
       },
       "data": [
        {
         "textinfo": "value+percent initial",
         "textposition": "inside",
         "type": "funnel",
         "x": [
          7419,
          4593,
          3734,
          3539
         ],
         "y": [
          "MainScreenAppear",
          "OffersScreenAppear",
          "CartScreenAppear",
          "PaymentScreenSuccessful"
         ]
        }
       ],
       "layout": {
        "template": {
         "data": {
          "bar": [
           {
            "error_x": {
             "color": "#2a3f5f"
            },
            "error_y": {
             "color": "#2a3f5f"
            },
            "marker": {
             "line": {
              "color": "#E5ECF6",
              "width": 0.5
             },
             "pattern": {
              "fillmode": "overlay",
              "size": 10,
              "solidity": 0.2
             }
            },
            "type": "bar"
           }
          ],
          "barpolar": [
           {
            "marker": {
             "line": {
              "color": "#E5ECF6",
              "width": 0.5
             },
             "pattern": {
              "fillmode": "overlay",
              "size": 10,
              "solidity": 0.2
             }
            },
            "type": "barpolar"
           }
          ],
          "carpet": [
           {
            "aaxis": {
             "endlinecolor": "#2a3f5f",
             "gridcolor": "white",
             "linecolor": "white",
             "minorgridcolor": "white",
             "startlinecolor": "#2a3f5f"
            },
            "baxis": {
             "endlinecolor": "#2a3f5f",
             "gridcolor": "white",
             "linecolor": "white",
             "minorgridcolor": "white",
             "startlinecolor": "#2a3f5f"
            },
            "type": "carpet"
           }
          ],
          "choropleth": [
           {
            "colorbar": {
             "outlinewidth": 0,
             "ticks": ""
            },
            "type": "choropleth"
           }
          ],
          "contour": [
           {
            "colorbar": {
             "outlinewidth": 0,
             "ticks": ""
            },
            "colorscale": [
             [
              0,
              "#0d0887"
             ],
             [
              0.1111111111111111,
              "#46039f"
             ],
             [
              0.2222222222222222,
              "#7201a8"
             ],
             [
              0.3333333333333333,
              "#9c179e"
             ],
             [
              0.4444444444444444,
              "#bd3786"
             ],
             [
              0.5555555555555556,
              "#d8576b"
             ],
             [
              0.6666666666666666,
              "#ed7953"
             ],
             [
              0.7777777777777778,
              "#fb9f3a"
             ],
             [
              0.8888888888888888,
              "#fdca26"
             ],
             [
              1,
              "#f0f921"
             ]
            ],
            "type": "contour"
           }
          ],
          "contourcarpet": [
           {
            "colorbar": {
             "outlinewidth": 0,
             "ticks": ""
            },
            "type": "contourcarpet"
           }
          ],
          "heatmap": [
           {
            "colorbar": {
             "outlinewidth": 0,
             "ticks": ""
            },
            "colorscale": [
             [
              0,
              "#0d0887"
             ],
             [
              0.1111111111111111,
              "#46039f"
             ],
             [
              0.2222222222222222,
              "#7201a8"
             ],
             [
              0.3333333333333333,
              "#9c179e"
             ],
             [
              0.4444444444444444,
              "#bd3786"
             ],
             [
              0.5555555555555556,
              "#d8576b"
             ],
             [
              0.6666666666666666,
              "#ed7953"
             ],
             [
              0.7777777777777778,
              "#fb9f3a"
             ],
             [
              0.8888888888888888,
              "#fdca26"
             ],
             [
              1,
              "#f0f921"
             ]
            ],
            "type": "heatmap"
           }
          ],
          "heatmapgl": [
           {
            "colorbar": {
             "outlinewidth": 0,
             "ticks": ""
            },
            "colorscale": [
             [
              0,
              "#0d0887"
             ],
             [
              0.1111111111111111,
              "#46039f"
             ],
             [
              0.2222222222222222,
              "#7201a8"
             ],
             [
              0.3333333333333333,
              "#9c179e"
             ],
             [
              0.4444444444444444,
              "#bd3786"
             ],
             [
              0.5555555555555556,
              "#d8576b"
             ],
             [
              0.6666666666666666,
              "#ed7953"
             ],
             [
              0.7777777777777778,
              "#fb9f3a"
             ],
             [
              0.8888888888888888,
              "#fdca26"
             ],
             [
              1,
              "#f0f921"
             ]
            ],
            "type": "heatmapgl"
           }
          ],
          "histogram": [
           {
            "marker": {
             "pattern": {
              "fillmode": "overlay",
              "size": 10,
              "solidity": 0.2
             }
            },
            "type": "histogram"
           }
          ],
          "histogram2d": [
           {
            "colorbar": {
             "outlinewidth": 0,
             "ticks": ""
            },
            "colorscale": [
             [
              0,
              "#0d0887"
             ],
             [
              0.1111111111111111,
              "#46039f"
             ],
             [
              0.2222222222222222,
              "#7201a8"
             ],
             [
              0.3333333333333333,
              "#9c179e"
             ],
             [
              0.4444444444444444,
              "#bd3786"
             ],
             [
              0.5555555555555556,
              "#d8576b"
             ],
             [
              0.6666666666666666,
              "#ed7953"
             ],
             [
              0.7777777777777778,
              "#fb9f3a"
             ],
             [
              0.8888888888888888,
              "#fdca26"
             ],
             [
              1,
              "#f0f921"
             ]
            ],
            "type": "histogram2d"
           }
          ],
          "histogram2dcontour": [
           {
            "colorbar": {
             "outlinewidth": 0,
             "ticks": ""
            },
            "colorscale": [
             [
              0,
              "#0d0887"
             ],
             [
              0.1111111111111111,
              "#46039f"
             ],
             [
              0.2222222222222222,
              "#7201a8"
             ],
             [
              0.3333333333333333,
              "#9c179e"
             ],
             [
              0.4444444444444444,
              "#bd3786"
             ],
             [
              0.5555555555555556,
              "#d8576b"
             ],
             [
              0.6666666666666666,
              "#ed7953"
             ],
             [
              0.7777777777777778,
              "#fb9f3a"
             ],
             [
              0.8888888888888888,
              "#fdca26"
             ],
             [
              1,
              "#f0f921"
             ]
            ],
            "type": "histogram2dcontour"
           }
          ],
          "mesh3d": [
           {
            "colorbar": {
             "outlinewidth": 0,
             "ticks": ""
            },
            "type": "mesh3d"
           }
          ],
          "parcoords": [
           {
            "line": {
             "colorbar": {
              "outlinewidth": 0,
              "ticks": ""
             }
            },
            "type": "parcoords"
           }
          ],
          "pie": [
           {
            "automargin": true,
            "type": "pie"
           }
          ],
          "scatter": [
           {
            "fillpattern": {
             "fillmode": "overlay",
             "size": 10,
             "solidity": 0.2
            },
            "type": "scatter"
           }
          ],
          "scatter3d": [
           {
            "line": {
             "colorbar": {
              "outlinewidth": 0,
              "ticks": ""
             }
            },
            "marker": {
             "colorbar": {
              "outlinewidth": 0,
              "ticks": ""
             }
            },
            "type": "scatter3d"
           }
          ],
          "scattercarpet": [
           {
            "marker": {
             "colorbar": {
              "outlinewidth": 0,
              "ticks": ""
             }
            },
            "type": "scattercarpet"
           }
          ],
          "scattergeo": [
           {
            "marker": {
             "colorbar": {
              "outlinewidth": 0,
              "ticks": ""
             }
            },
            "type": "scattergeo"
           }
          ],
          "scattergl": [
           {
            "marker": {
             "colorbar": {
              "outlinewidth": 0,
              "ticks": ""
             }
            },
            "type": "scattergl"
           }
          ],
          "scattermapbox": [
           {
            "marker": {
             "colorbar": {
              "outlinewidth": 0,
              "ticks": ""
             }
            },
            "type": "scattermapbox"
           }
          ],
          "scatterpolar": [
           {
            "marker": {
             "colorbar": {
              "outlinewidth": 0,
              "ticks": ""
             }
            },
            "type": "scatterpolar"
           }
          ],
          "scatterpolargl": [
           {
            "marker": {
             "colorbar": {
              "outlinewidth": 0,
              "ticks": ""
             }
            },
            "type": "scatterpolargl"
           }
          ],
          "scatterternary": [
           {
            "marker": {
             "colorbar": {
              "outlinewidth": 0,
              "ticks": ""
             }
            },
            "type": "scatterternary"
           }
          ],
          "surface": [
           {
            "colorbar": {
             "outlinewidth": 0,
             "ticks": ""
            },
            "colorscale": [
             [
              0,
              "#0d0887"
             ],
             [
              0.1111111111111111,
              "#46039f"
             ],
             [
              0.2222222222222222,
              "#7201a8"
             ],
             [
              0.3333333333333333,
              "#9c179e"
             ],
             [
              0.4444444444444444,
              "#bd3786"
             ],
             [
              0.5555555555555556,
              "#d8576b"
             ],
             [
              0.6666666666666666,
              "#ed7953"
             ],
             [
              0.7777777777777778,
              "#fb9f3a"
             ],
             [
              0.8888888888888888,
              "#fdca26"
             ],
             [
              1,
              "#f0f921"
             ]
            ],
            "type": "surface"
           }
          ],
          "table": [
           {
            "cells": {
             "fill": {
              "color": "#EBF0F8"
             },
             "line": {
              "color": "white"
             }
            },
            "header": {
             "fill": {
              "color": "#C8D4E3"
             },
             "line": {
              "color": "white"
             }
            },
            "type": "table"
           }
          ]
         },
         "layout": {
          "annotationdefaults": {
           "arrowcolor": "#2a3f5f",
           "arrowhead": 0,
           "arrowwidth": 1
          },
          "autotypenumbers": "strict",
          "coloraxis": {
           "colorbar": {
            "outlinewidth": 0,
            "ticks": ""
           }
          },
          "colorscale": {
           "diverging": [
            [
             0,
             "#8e0152"
            ],
            [
             0.1,
             "#c51b7d"
            ],
            [
             0.2,
             "#de77ae"
            ],
            [
             0.3,
             "#f1b6da"
            ],
            [
             0.4,
             "#fde0ef"
            ],
            [
             0.5,
             "#f7f7f7"
            ],
            [
             0.6,
             "#e6f5d0"
            ],
            [
             0.7,
             "#b8e186"
            ],
            [
             0.8,
             "#7fbc41"
            ],
            [
             0.9,
             "#4d9221"
            ],
            [
             1,
             "#276419"
            ]
           ],
           "sequential": [
            [
             0,
             "#0d0887"
            ],
            [
             0.1111111111111111,
             "#46039f"
            ],
            [
             0.2222222222222222,
             "#7201a8"
            ],
            [
             0.3333333333333333,
             "#9c179e"
            ],
            [
             0.4444444444444444,
             "#bd3786"
            ],
            [
             0.5555555555555556,
             "#d8576b"
            ],
            [
             0.6666666666666666,
             "#ed7953"
            ],
            [
             0.7777777777777778,
             "#fb9f3a"
            ],
            [
             0.8888888888888888,
             "#fdca26"
            ],
            [
             1,
             "#f0f921"
            ]
           ],
           "sequentialminus": [
            [
             0,
             "#0d0887"
            ],
            [
             0.1111111111111111,
             "#46039f"
            ],
            [
             0.2222222222222222,
             "#7201a8"
            ],
            [
             0.3333333333333333,
             "#9c179e"
            ],
            [
             0.4444444444444444,
             "#bd3786"
            ],
            [
             0.5555555555555556,
             "#d8576b"
            ],
            [
             0.6666666666666666,
             "#ed7953"
            ],
            [
             0.7777777777777778,
             "#fb9f3a"
            ],
            [
             0.8888888888888888,
             "#fdca26"
            ],
            [
             1,
             "#f0f921"
            ]
           ]
          },
          "colorway": [
           "#636efa",
           "#EF553B",
           "#00cc96",
           "#ab63fa",
           "#FFA15A",
           "#19d3f3",
           "#FF6692",
           "#B6E880",
           "#FF97FF",
           "#FECB52"
          ],
          "font": {
           "color": "#2a3f5f"
          },
          "geo": {
           "bgcolor": "white",
           "lakecolor": "white",
           "landcolor": "#E5ECF6",
           "showlakes": true,
           "showland": true,
           "subunitcolor": "white"
          },
          "hoverlabel": {
           "align": "left"
          },
          "hovermode": "closest",
          "mapbox": {
           "style": "light"
          },
          "paper_bgcolor": "white",
          "plot_bgcolor": "#E5ECF6",
          "polar": {
           "angularaxis": {
            "gridcolor": "white",
            "linecolor": "white",
            "ticks": ""
           },
           "bgcolor": "#E5ECF6",
           "radialaxis": {
            "gridcolor": "white",
            "linecolor": "white",
            "ticks": ""
           }
          },
          "scene": {
           "xaxis": {
            "backgroundcolor": "#E5ECF6",
            "gridcolor": "white",
            "gridwidth": 2,
            "linecolor": "white",
            "showbackground": true,
            "ticks": "",
            "zerolinecolor": "white"
           },
           "yaxis": {
            "backgroundcolor": "#E5ECF6",
            "gridcolor": "white",
            "gridwidth": 2,
            "linecolor": "white",
            "showbackground": true,
            "ticks": "",
            "zerolinecolor": "white"
           },
           "zaxis": {
            "backgroundcolor": "#E5ECF6",
            "gridcolor": "white",
            "gridwidth": 2,
            "linecolor": "white",
            "showbackground": true,
            "ticks": "",
            "zerolinecolor": "white"
           }
          },
          "shapedefaults": {
           "line": {
            "color": "#2a3f5f"
           }
          },
          "ternary": {
           "aaxis": {
            "gridcolor": "white",
            "linecolor": "white",
            "ticks": ""
           },
           "baxis": {
            "gridcolor": "white",
            "linecolor": "white",
            "ticks": ""
           },
           "bgcolor": "#E5ECF6",
           "caxis": {
            "gridcolor": "white",
            "linecolor": "white",
            "ticks": ""
           }
          },
          "title": {
           "x": 0.05
          },
          "xaxis": {
           "automargin": true,
           "gridcolor": "white",
           "linecolor": "white",
           "ticks": "",
           "title": {
            "standoff": 15
           },
           "zerolinecolor": "white",
           "zerolinewidth": 2
          },
          "yaxis": {
           "automargin": true,
           "gridcolor": "white",
           "linecolor": "white",
           "ticks": "",
           "title": {
            "standoff": 15
           },
           "zerolinecolor": "white",
           "zerolinewidth": 2
          }
         }
        },
        "title": {
         "text": "Воронка событий"
        },
        "xaxis": {
         "title": {
          "text": "Количество пользователей"
         }
        },
        "yaxis": {
         "title": {
          "text": "Событие"
         }
        }
       }
      }
     },
     "metadata": {},
     "output_type": "display_data"
    }
   ],
   "source": [
    "from plotly import graph_objects as go\n",
    "from matplotlib.pyplot import xlabel\n",
    "\n",
    "data = dict(\n",
    "            values=users_count.loc[:3,'device_id_hash'],\n",
    "            events=users_count.loc[:3,'event_name']\n",
    "            )\n",
    "\n",
    "fig = go.Figure(go.Funnel(x=data['values'], y=data['events'],\n",
    "                            textposition = \"inside\",\n",
    "                            textinfo = \"value+percent initial\",))\n",
    "fig.update_layout(title_text=\"Воронка событий\")\n",
    "fig.update_xaxes(title_text=\"Количество пользователей\")\n",
    "fig.update_yaxes(title_text=\"Событие\")\n",
    "    \n",
    "fig.show()"
   ]
  },
  {
   "cell_type": "markdown",
   "metadata": {},
   "source": [
    "**Вывод:**\n",
    "* В логах присутствуют следующие события по убыванию частоты появления: MainScreenAppear, OffersScreenAppear, CartScreenAppear, PaymentScreenSuccessful, Tutorial\n",
    "* Наиболее часто встречается в логах событие MainScreenAppear: 49%. Частота появления события Tutorial близка к 0.\n",
    "* События по убыванию доли пользователей, которые их совершали: MainScreenAppear, OffersScreenAppear, CartScreenAppear, PaymentScreenSuccessful, Tutorial\n",
    "* Наибольшая доля пользователей совершала событие MainScreenAppear:\t37%. И только 4% пользователей совершали событие Tutorial\n",
    "* Можно предположить, что события происходят в следующем порядке:\n",
    "    * MainScreenAppear         \n",
    "    * OffersScreenAppear        \n",
    "    * CartScreenAppear           \n",
    "    * PaymentScreenSuccessful   \n",
    "    * Tutorial\n",
    "* Больше всего пользователей теряется на шаге Tutorial, тк до него доходит только 24% пользователей с предыдущего шага\n",
    "* Шаг Tutorial является опциональным, поэтому в дальнейшем мы исключим его из воронки\n",
    "* От первого события до оплаты PaymentScreenSuccessful доходит 48% пользователей\n",
    "* Обнаружена проблема - провал на первом шаге: от MainScreenAppear к OffersScreenAppear. Экран предложений\tвидит только 62% пользователей. Вероятно, нужно лучше прорабатывать механику, чтобы пользователи переходили к OffersScreen."
   ]
  },
  {
   "cell_type": "markdown",
   "metadata": {},
   "source": [
    "# Изучение результатов эксперимента\n",
    "\n",
    "Удалим событие Tutorial из воронки событий"
   ]
  },
  {
   "cell_type": "code",
   "execution_count": 19,
   "metadata": {},
   "outputs": [
    {
     "name": "stdout",
     "output_type": "stream",
     "text": [
      "Удалено 1005 событий, что составляет 0.42% от исходного количества событий\n",
      "Удалено 4 пользователей, что составляет 0.05% от исходного количества пользователей\n"
     ]
    }
   ],
   "source": [
    "events_before = len(df)\n",
    "users_count_before = df['device_id_hash'].nunique()\n",
    "\n",
    "funnel = df.query('event_name != \"Tutorial\"')\n",
    "\n",
    "print(f\"Удалено {events_before - len(funnel)} событий, что составляет {((events_before - len(funnel))/events_before):.2%} от исходного количества событий\")\n",
    "print(f\"Удалено {users_count_before - funnel['device_id_hash'].nunique()} пользователей, \\\n",
    "что составляет {((users_count_before - funnel['device_id_hash'].nunique())/users_count_before):.2%} от исходного количества пользователей\")"
   ]
  },
  {
   "cell_type": "markdown",
   "metadata": {},
   "source": [
    "Посмотрим сколько пользователей в каждой экспериментальной группе"
   ]
  },
  {
   "cell_type": "code",
   "execution_count": 20,
   "metadata": {},
   "outputs": [
    {
     "data": {
      "text/plain": [
       "exp_id\n",
       "246    2483\n",
       "247    2512\n",
       "248    2535\n",
       "Name: device_id_hash, dtype: int64"
      ]
     },
     "metadata": {},
     "output_type": "display_data"
    }
   ],
   "source": [
    "display(funnel.groupby('exp_id')['device_id_hash'].nunique()) \n"
   ]
  },
  {
   "cell_type": "markdown",
   "metadata": {},
   "source": [
    "Среди пользователей нет попавших в несколько групп. Это мы проверили ранее на этапе Изучение и проверка данных."
   ]
  },
  {
   "cell_type": "markdown",
   "metadata": {},
   "source": [
    "**Вывод:**\n",
    "* Количество пользователей в группах: \n",
    "    * 246: 2484\n",
    "    * 247: 2513\n",
    "    * 248: 2537\n",
    "* Среди пользователей нет попавших в несколько групп. Это мы проверили ранее на этапе Изучение и проверка данных."
   ]
  },
  {
   "cell_type": "markdown",
   "metadata": {},
   "source": [
    "## А/А -тест\n",
    "\n",
    "Сформулируем гипотезы\n",
    "\n",
    "* Н0 - различия между группами, совершившими указанное событие, статистически не значимы\n",
    "* Н1 - различия между группами, совершившими указанное событие, статистически значимы\n",
    "\n",
    "Пороговое значение уровня стат значимости alpha примем за 5%."
   ]
  },
  {
   "cell_type": "markdown",
   "metadata": {},
   "source": [
    "У нас есть 2 контрольные группы для А/А-эксперимента, чтобы проверить корректность всех механизмов и расчётов. Проверим, находят ли статистические критерии разницу между выборками 246 и 247. Для поверки будем использовать следующие критерии.\n",
    "\n",
    "**Критерии успешного A/A-теста:** \n",
    "\n",
    "* Количество пользователей в различных группах различается не более, чем на 1%;\n",
    "* Для всех групп фиксируют и отправляют в системы аналитики данные об одном и том же;\n",
    "* Различие ключевых метрик по группам не превышает 1% и не имеет статистической значимости;\n",
    "* Попавший в одну из групп посетитель остаётся в этой группе до конца теста. Если пользователь видит разные версии исследуемой страницы в ходе одного исследования, неизвестно, какая именно повлияла на его решения. Значит, и результаты такого теста нельзя интерпретировать однозначно."
   ]
  },
  {
   "cell_type": "code",
   "execution_count": 21,
   "metadata": {},
   "outputs": [
    {
     "name": "stdout",
     "output_type": "stream",
     "text": [
      "Разница в количестве пользователей между группами 246 и 247: 1.15%\n"
     ]
    }
   ],
   "source": [
    "# проверка разницы в количестве пользователей\n",
    "group_246 = funnel.query('exp_id == 246').groupby('exp_id')['device_id_hash'].nunique().reset_index()\n",
    "group_247 = funnel.query('exp_id == 247').groupby('exp_id')['device_id_hash'].nunique().reset_index()\n",
    "\n",
    "diff = 1 - group_246.loc[0,'device_id_hash'] / group_247.loc[0,'device_id_hash']\n",
    "print(f'Разница в количестве пользователей между группами 246 и 247: {diff:.2%}')\n"
   ]
  },
  {
   "cell_type": "markdown",
   "metadata": {},
   "source": [
    "Количество пользователей в группах различается на ~ 1%. Предполагаем, что для всех групп фиксируют и отправляют в системы аналитики данные об одном и том же. Среди пользователей нет попавших в несколько групп. Это мы проверили ранее на этапе Изучение и проверка данных. Остается проверка различия ключевых метрик"
   ]
  },
  {
   "cell_type": "code",
   "execution_count": 22,
   "metadata": {},
   "outputs": [
    {
     "data": {
      "text/html": [
       "<div>\n",
       "<style scoped>\n",
       "    .dataframe tbody tr th:only-of-type {\n",
       "        vertical-align: middle;\n",
       "    }\n",
       "\n",
       "    .dataframe tbody tr th {\n",
       "        vertical-align: top;\n",
       "    }\n",
       "\n",
       "    .dataframe thead th {\n",
       "        text-align: right;\n",
       "    }\n",
       "</style>\n",
       "<table border=\"1\" class=\"dataframe\">\n",
       "  <thead>\n",
       "    <tr style=\"text-align: right;\">\n",
       "      <th>exp_id</th>\n",
       "      <th>event_name</th>\n",
       "      <th>246</th>\n",
       "      <th>247</th>\n",
       "      <th>248</th>\n",
       "      <th>All</th>\n",
       "      <th>246+247</th>\n",
       "    </tr>\n",
       "  </thead>\n",
       "  <tbody>\n",
       "    <tr>\n",
       "      <th>0</th>\n",
       "      <td>MainScreenAppear</td>\n",
       "      <td>2450</td>\n",
       "      <td>2476</td>\n",
       "      <td>2493</td>\n",
       "      <td>7419</td>\n",
       "      <td>4926</td>\n",
       "    </tr>\n",
       "    <tr>\n",
       "      <th>1</th>\n",
       "      <td>OffersScreenAppear</td>\n",
       "      <td>1542</td>\n",
       "      <td>1520</td>\n",
       "      <td>1531</td>\n",
       "      <td>4593</td>\n",
       "      <td>3062</td>\n",
       "    </tr>\n",
       "    <tr>\n",
       "      <th>2</th>\n",
       "      <td>CartScreenAppear</td>\n",
       "      <td>1266</td>\n",
       "      <td>1238</td>\n",
       "      <td>1230</td>\n",
       "      <td>3734</td>\n",
       "      <td>2504</td>\n",
       "    </tr>\n",
       "    <tr>\n",
       "      <th>3</th>\n",
       "      <td>PaymentScreenSuccessful</td>\n",
       "      <td>1200</td>\n",
       "      <td>1158</td>\n",
       "      <td>1181</td>\n",
       "      <td>3539</td>\n",
       "      <td>2358</td>\n",
       "    </tr>\n",
       "    <tr>\n",
       "      <th>4</th>\n",
       "      <td>All</td>\n",
       "      <td>2483</td>\n",
       "      <td>2512</td>\n",
       "      <td>2535</td>\n",
       "      <td>7530</td>\n",
       "      <td>4995</td>\n",
       "    </tr>\n",
       "  </tbody>\n",
       "</table>\n",
       "</div>"
      ],
      "text/plain": [
       "exp_id               event_name   246   247   248   All  246+247\n",
       "0              MainScreenAppear  2450  2476  2493  7419     4926\n",
       "1            OffersScreenAppear  1542  1520  1531  4593     3062\n",
       "2              CartScreenAppear  1266  1238  1230  3734     2504\n",
       "3       PaymentScreenSuccessful  1200  1158  1181  3539     2358\n",
       "4                           All  2483  2512  2535  7530     4995"
      ]
     },
     "metadata": {},
     "output_type": "display_data"
    }
   ],
   "source": [
    "funnel_grp = funnel.pivot_table(index='event_name', columns='exp_id', values='device_id_hash', aggfunc='nunique',  margins=True\n",
    "               ).sort_values(by=246, ascending=False).reset_index().reindex([1, 2, 3, 4, 0]).reset_index(drop= True)\n",
    "funnel_grp['246+247'] = funnel_grp[246] + funnel_grp [247]\n",
    "display(funnel_grp)\n"
   ]
  },
  {
   "cell_type": "markdown",
   "metadata": {},
   "source": [
    "Проверим, находят ли статистические критерии разницу между выборками 246 и 247 по ключевым метрикам"
   ]
  },
  {
   "cell_type": "code",
   "execution_count": 23,
   "metadata": {},
   "outputs": [
    {
     "data": {
      "text/html": [
       "<div>\n",
       "<style scoped>\n",
       "    .dataframe tbody tr th:only-of-type {\n",
       "        vertical-align: middle;\n",
       "    }\n",
       "\n",
       "    .dataframe tbody tr th {\n",
       "        vertical-align: top;\n",
       "    }\n",
       "\n",
       "    .dataframe thead th {\n",
       "        text-align: right;\n",
       "    }\n",
       "</style>\n",
       "<table border=\"1\" class=\"dataframe\">\n",
       "  <thead>\n",
       "    <tr style=\"text-align: right;\">\n",
       "      <th></th>\n",
       "      <th>События</th>\n",
       "      <th>Сравнение 246 и 247</th>\n",
       "    </tr>\n",
       "  </thead>\n",
       "  <tbody>\n",
       "    <tr>\n",
       "      <th>0</th>\n",
       "      <td>MainScreenAppear</td>\n",
       "      <td>0.75</td>\n",
       "    </tr>\n",
       "    <tr>\n",
       "      <th>1</th>\n",
       "      <td>OffersScreenAppear</td>\n",
       "      <td>0.25</td>\n",
       "    </tr>\n",
       "    <tr>\n",
       "      <th>2</th>\n",
       "      <td>CartScreenAppear</td>\n",
       "      <td>0.23</td>\n",
       "    </tr>\n",
       "    <tr>\n",
       "      <th>3</th>\n",
       "      <td>PaymentScreenSuccessful</td>\n",
       "      <td>0.11</td>\n",
       "    </tr>\n",
       "  </tbody>\n",
       "</table>\n",
       "</div>"
      ],
      "text/plain": [
       "                   События  Сравнение 246 и 247\n",
       "0         MainScreenAppear                 0.75\n",
       "1       OffersScreenAppear                 0.25\n",
       "2         CartScreenAppear                 0.23\n",
       "3  PaymentScreenSuccessful                 0.11"
      ]
     },
     "execution_count": 23,
     "metadata": {},
     "output_type": "execute_result"
    }
   ],
   "source": [
    "alpha = 0.05  # критический уровень статистической значимости\n",
    "\n",
    "aa_test = pd.DataFrame({'event_name' : ['', '', '', ''],\n",
    "                        '246_247' : [.0, .0, .0, .0],\n",
    "                        })\n",
    "for i in range(0, len(funnel_grp)-1):\n",
    "    \n",
    "    aa_test.loc[i,'event_name'] = funnel_grp.loc[i,'event_name']\n",
    "    aa_test.loc[i,'246_247'] = z_test(funnel_grp.loc[i,246], funnel_grp.loc[4,246], \n",
    "                                    funnel_grp.loc[i,247], funnel_grp.loc[4,247],\n",
    "                                    alpha,\n",
    "                                    )\n",
    "aa_test.columns = ['События', 'Сравнение 246 и 247']    \n",
    "aa_test    "
   ]
  },
  {
   "cell_type": "markdown",
   "metadata": {},
   "source": [
    "**Вывод:**\n",
    "* Проверены все критерии успешного A/A-теста по группам 246 и 247\n",
    "* Полученные p-значения больше уровня стат значимости, поэтому не получилось отвергнуть нулевую гипотезу. Следовательно, нет оснований считать доли разными"
   ]
  },
  {
   "cell_type": "markdown",
   "metadata": {},
   "source": [
    "## А/В-тест\n",
    "\n",
    "Проверим, находят ли статистические критерии разницу между всеми выборками по ключевым метрикам"
   ]
  },
  {
   "cell_type": "code",
   "execution_count": 24,
   "metadata": {},
   "outputs": [
    {
     "data": {
      "text/html": [
       "<div>\n",
       "<style scoped>\n",
       "    .dataframe tbody tr th:only-of-type {\n",
       "        vertical-align: middle;\n",
       "    }\n",
       "\n",
       "    .dataframe tbody tr th {\n",
       "        vertical-align: top;\n",
       "    }\n",
       "\n",
       "    .dataframe thead th {\n",
       "        text-align: right;\n",
       "    }\n",
       "</style>\n",
       "<table border=\"1\" class=\"dataframe\">\n",
       "  <thead>\n",
       "    <tr style=\"text-align: right;\">\n",
       "      <th></th>\n",
       "      <th>События</th>\n",
       "      <th>Сравнение 246 и 248</th>\n",
       "      <th>Сравнение 247 и 248</th>\n",
       "      <th>Сравнение 246+247 и 248</th>\n",
       "    </tr>\n",
       "  </thead>\n",
       "  <tbody>\n",
       "    <tr>\n",
       "      <th>0</th>\n",
       "      <td>MainScreenAppear</td>\n",
       "      <td>0.34</td>\n",
       "      <td>0.52</td>\n",
       "      <td>0.35</td>\n",
       "    </tr>\n",
       "    <tr>\n",
       "      <th>1</th>\n",
       "      <td>OffersScreenAppear</td>\n",
       "      <td>0.21</td>\n",
       "      <td>0.93</td>\n",
       "      <td>0.45</td>\n",
       "    </tr>\n",
       "    <tr>\n",
       "      <th>2</th>\n",
       "      <td>CartScreenAppear</td>\n",
       "      <td>0.08</td>\n",
       "      <td>0.59</td>\n",
       "      <td>0.19</td>\n",
       "    </tr>\n",
       "    <tr>\n",
       "      <th>3</th>\n",
       "      <td>PaymentScreenSuccessful</td>\n",
       "      <td>0.22</td>\n",
       "      <td>0.73</td>\n",
       "      <td>0.61</td>\n",
       "    </tr>\n",
       "  </tbody>\n",
       "</table>\n",
       "</div>"
      ],
      "text/plain": [
       "                   События  Сравнение 246 и 248  Сравнение 247 и 248  \\\n",
       "0         MainScreenAppear                 0.34                 0.52   \n",
       "1       OffersScreenAppear                 0.21                 0.93   \n",
       "2         CartScreenAppear                 0.08                 0.59   \n",
       "3  PaymentScreenSuccessful                 0.22                 0.73   \n",
       "\n",
       "   Сравнение 246+247 и 248  \n",
       "0                     0.35  \n",
       "1                     0.45  \n",
       "2                     0.19  \n",
       "3                     0.61  "
      ]
     },
     "execution_count": 24,
     "metadata": {},
     "output_type": "execute_result"
    }
   ],
   "source": [
    "ab_test = pd.DataFrame({'event_name' : ['', '', '', ''],\n",
    "                        '246_248' : [.0, .0, .0, .0],\n",
    "                        '247_248' : [.0, .0, .0, .0],\n",
    "                        '(246+247)_248' : [.0, .0, .0, .0],\n",
    "                        })\n",
    "for i in range(0, len(funnel_grp)-1):\n",
    "    \n",
    "    ab_test.loc[i,'event_name'] = funnel_grp.loc[i,'event_name']    \n",
    "    ab_test.loc[i,'246_248'] = z_test(funnel_grp.loc[i,246], funnel_grp.loc[4,246], \n",
    "                                    funnel_grp.loc[i,248], funnel_grp.loc[4,248],\n",
    "                                    alpha,\n",
    "                                    )\n",
    "    ab_test.loc[i,'247_248'] = z_test(funnel_grp.loc[i,247], funnel_grp.loc[4,247], \n",
    "                                    funnel_grp.loc[i,248], funnel_grp.loc[4,248],\n",
    "                                    alpha,\n",
    "                                    )\n",
    "    ab_test.loc[i,'(246+247)_248'] = z_test(funnel_grp.loc[i,'246+247'], funnel_grp.loc[4,'246+247'], \n",
    "                                    funnel_grp.loc[i,248], funnel_grp.loc[4,248],\n",
    "                                    alpha,\n",
    "                                    )\n",
    "ab_test.columns = ['События', 'Сравнение 246 и 248', 'Сравнение 247 и 248', 'Сравнение 246+247 и 248']    \n",
    "ab_test    "
   ]
  },
  {
   "cell_type": "markdown",
   "metadata": {},
   "source": [
    "В этом проекте мы провели 16 проверок нулевых гипотез на одном наборе данных (по 4 гипотезы в каждом АВ тесте – А1А2 тест, А1В тест, А2В тест, (А1+А2)В тест). \n",
    "Можно предположить, что при множественной проверке гипотез возрастает групповая вероятность совершить ошибку первого рода FWER (т.е. получить ошибку первого рода хотя бы один раз из всех проверяемых гипотез).\n",
    "\n",
    "Можно провести корректировку уровня значимости. Для этого используем поправку Шидака"
   ]
  },
  {
   "cell_type": "code",
   "execution_count": 25,
   "metadata": {},
   "outputs": [
    {
     "name": "stdout",
     "output_type": "stream",
     "text": [
      "Стат уровень значимости с поправкой Шидака: 0.003\n"
     ]
    }
   ],
   "source": [
    "m = 16\n",
    "alpha_shidak = 1 - (1 - alpha)**(1/m) \n",
    "print(f'Стат уровень значимости с поправкой Шидака: {alpha_shidak:.3f}')"
   ]
  },
  {
   "cell_type": "markdown",
   "metadata": {},
   "source": [
    "**Вывод:**\n",
    "* Для всех событий и всех пар групп p-значение значительно больше стат уровня значимости с поправкой Шидака = 0.003. Следовательно, нулевую гипотезу не удалось отвергнуть, и шрифт не влияет на взаимодействие пользователя с приложением."
   ]
  },
  {
   "cell_type": "markdown",
   "metadata": {},
   "source": [
    "# Общий вывод\n",
    "\n",
    "* Первичный осмотр данных:\n",
    "    * Требуется удаление дубликатов\n",
    "    * Требуется приведение названий столбцов в змеиный регистр\n",
    "    * Требуется обработка для использования данных в столбце EventTimestamp\n",
    "* Подготовка данных:\n",
    "    * Названия столбцов приведены в змеиный регистр;\n",
    "    * Удалены дубликаты\n",
    "    * Добавлен столбец даты и времени, а также отдельный столбец дат;\n",
    "* Изучение и проверка данных:\n",
    "    * Минимальная дата: 2019-07-25, максимальная дата: 2019-08-07\n",
    "    * Исходя из диаграмм, можно утверждать что большинство событий приходится на интервал с 2019-08-01, поэтому можно удалить нерелевантные данные за ранние даты\n",
    "    * Удалено 2826 событий, что составляет 1.2% от исходного количества событий\n",
    "    * Удалено 17 пользователей, что составляет 0.2% от исходного количества пользователей\n",
    "    * Количество пользователей, которые присутствуют в нескольких группах:  0\n",
    "    * В датасете присутствуют пользователи из всех трёх экспериментальных групп.\n",
    "* Изучение воронки событий:\n",
    "    * В логах присутствуют следующие события по убыванию частоты появления: MainScreenAppear, OffersScreenAppear, CartScreenAppear, PaymentScreenSuccessful, Tutorial\n",
    "    * Наиболее часто встречается в логах событие MainScreenAppear: 49%. Частота появления события Tutorial близка к 0.\n",
    "    * События по убыванию доли пользователей, которые их совершали: MainScreenAppear, OffersScreenAppear, CartScreenAppear, PaymentScreenSuccessful, Tutorial\n",
    "    * Наибольшая доля пользователей совершала событие MainScreenAppear:\t37%. И только 4% пользователей совершали событие Tutorial\n",
    "    * Можно предположить, что события происходят в следующем порядке:\n",
    "        * MainScreenAppear         \n",
    "        * OffersScreenAppear        \n",
    "        * CartScreenAppear           \n",
    "        * PaymentScreenSuccessful   \n",
    "        * Tutorial\n",
    "    * Больше всего пользователей теряется на шаге Tutorial, тк до него доходит только 24% пользователей с предыдущего шага\n",
    "    * Шаг Tutorial является опциональным, поэтому в дальнейшем мы исключим его из воронки\n",
    "    * От первого события до оплаты PaymentScreenSuccessful доходит 48% пользователей\n",
    "    * Обнаружена проблема - провал на первом шаге: от MainScreenAppear к OffersScreenAppear. Экран предложений\tвидит только 62% пользователей. Вероятно, нужно лучше прорабатывать механику, чтобы пользователи переходили к OffersScreen.\n",
    "* Изучение результатов эксперимента:\n",
    "    * Количество пользователей в группах: \n",
    "        * 246: 2484\n",
    "        * 247: 2513\n",
    "        * 248: 2537\n",
    "    * Среди пользователей нет попавших в несколько групп. Это мы проверили ранее на этапе Изучение и проверка данных.\n",
    "    * А/А -тест:\n",
    "        * Проверены все критерии успешного A/A-теста по группам 246 и 247\n",
    "        * Полученные p-значения больше уровня стат значимости, поэтому не получилось отвергнуть нулевую гипотезу. Следовательно, нет оснований считать доли разными\n",
    "    * А/В -тест:\n",
    "        * Для всех событий и всех пар групп p-значение значительно больше стат уровня значимости с поправкой Шидака = 0.003. Следовательно, нулевую гипотезу не удалось отвергнуть, и шрифт не влияет на взаимодействие пользователя с приложением.\n",
    "\n"
   ]
  },
  {
   "cell_type": "code",
   "execution_count": null,
   "metadata": {},
   "outputs": [],
   "source": []
  }
 ],
 "metadata": {
  "ExecuteTimeLog": [
   {
    "duration": 3434,
    "start_time": "2024-01-22T20:33:04.773Z"
   },
   {
    "duration": 1169,
    "start_time": "2024-01-22T20:33:08.209Z"
   },
   {
    "duration": 4,
    "start_time": "2024-01-22T20:33:09.380Z"
   },
   {
    "duration": 9,
    "start_time": "2024-01-22T20:33:09.386Z"
   },
   {
    "duration": 6,
    "start_time": "2024-01-22T20:33:09.398Z"
   },
   {
    "duration": 511,
    "start_time": "2024-01-22T20:33:09.406Z"
   },
   {
    "duration": 266,
    "start_time": "2024-01-22T20:33:09.919Z"
   },
   {
    "duration": 4,
    "start_time": "2024-01-22T20:33:10.187Z"
   },
   {
    "duration": 169,
    "start_time": "2024-01-22T20:33:10.193Z"
   },
   {
    "duration": 51,
    "start_time": "2024-01-22T20:33:10.364Z"
   },
   {
    "duration": 69,
    "start_time": "2024-01-22T20:33:10.417Z"
   },
   {
    "duration": 0,
    "start_time": "2024-01-22T20:33:10.487Z"
   },
   {
    "duration": 0,
    "start_time": "2024-01-22T20:33:10.489Z"
   },
   {
    "duration": 0,
    "start_time": "2024-01-22T20:33:10.490Z"
   },
   {
    "duration": 0,
    "start_time": "2024-01-22T20:33:10.491Z"
   },
   {
    "duration": 0,
    "start_time": "2024-01-22T20:33:10.492Z"
   },
   {
    "duration": 0,
    "start_time": "2024-01-22T20:33:10.493Z"
   },
   {
    "duration": 0,
    "start_time": "2024-01-22T20:33:10.494Z"
   },
   {
    "duration": 0,
    "start_time": "2024-01-22T20:33:10.495Z"
   },
   {
    "duration": 0,
    "start_time": "2024-01-22T20:33:10.497Z"
   },
   {
    "duration": 0,
    "start_time": "2024-01-22T20:33:10.498Z"
   },
   {
    "duration": 0,
    "start_time": "2024-01-22T20:33:10.499Z"
   },
   {
    "duration": 0,
    "start_time": "2024-01-22T20:33:10.500Z"
   },
   {
    "duration": 0,
    "start_time": "2024-01-22T20:33:10.501Z"
   },
   {
    "duration": 0,
    "start_time": "2024-01-22T20:33:10.502Z"
   },
   {
    "duration": 0,
    "start_time": "2024-01-22T20:33:10.503Z"
   },
   {
    "duration": 3177,
    "start_time": "2024-01-22T20:49:17.982Z"
   },
   {
    "duration": 1332,
    "start_time": "2024-01-22T20:49:21.161Z"
   },
   {
    "duration": 3,
    "start_time": "2024-01-22T20:49:22.495Z"
   },
   {
    "duration": 42,
    "start_time": "2024-01-22T20:49:22.500Z"
   },
   {
    "duration": 28,
    "start_time": "2024-01-22T20:49:22.544Z"
   },
   {
    "duration": 607,
    "start_time": "2024-01-22T20:49:22.574Z"
   },
   {
    "duration": 233,
    "start_time": "2024-01-22T20:49:23.183Z"
   },
   {
    "duration": 4,
    "start_time": "2024-01-22T20:49:23.417Z"
   },
   {
    "duration": 167,
    "start_time": "2024-01-22T20:49:23.422Z"
   },
   {
    "duration": 43,
    "start_time": "2024-01-22T20:49:23.591Z"
   },
   {
    "duration": 80,
    "start_time": "2024-01-22T20:49:55.952Z"
   },
   {
    "duration": 200,
    "start_time": "2024-01-22T20:50:47.392Z"
   },
   {
    "duration": 2362,
    "start_time": "2024-01-22T20:51:14.431Z"
   },
   {
    "duration": 1099,
    "start_time": "2024-01-22T20:51:16.795Z"
   },
   {
    "duration": 3,
    "start_time": "2024-01-22T20:51:17.898Z"
   },
   {
    "duration": 9,
    "start_time": "2024-01-22T20:51:17.902Z"
   },
   {
    "duration": 16,
    "start_time": "2024-01-22T20:51:17.912Z"
   },
   {
    "duration": 380,
    "start_time": "2024-01-22T20:51:17.930Z"
   },
   {
    "duration": 252,
    "start_time": "2024-01-22T20:51:18.311Z"
   },
   {
    "duration": 4,
    "start_time": "2024-01-22T20:51:18.564Z"
   },
   {
    "duration": 157,
    "start_time": "2024-01-22T20:51:18.570Z"
   },
   {
    "duration": 50,
    "start_time": "2024-01-22T20:51:18.729Z"
   },
   {
    "duration": 220,
    "start_time": "2024-01-22T20:51:18.780Z"
   },
   {
    "duration": 66,
    "start_time": "2024-01-22T20:51:19.001Z"
   },
   {
    "duration": 0,
    "start_time": "2024-01-22T20:51:19.068Z"
   },
   {
    "duration": 0,
    "start_time": "2024-01-22T20:51:19.069Z"
   },
   {
    "duration": 0,
    "start_time": "2024-01-22T20:51:19.070Z"
   },
   {
    "duration": 0,
    "start_time": "2024-01-22T20:51:19.071Z"
   },
   {
    "duration": 0,
    "start_time": "2024-01-22T20:51:19.072Z"
   },
   {
    "duration": 0,
    "start_time": "2024-01-22T20:51:19.073Z"
   },
   {
    "duration": 1,
    "start_time": "2024-01-22T20:51:19.073Z"
   },
   {
    "duration": 1,
    "start_time": "2024-01-22T20:51:19.074Z"
   },
   {
    "duration": 0,
    "start_time": "2024-01-22T20:51:19.075Z"
   },
   {
    "duration": 0,
    "start_time": "2024-01-22T20:51:19.076Z"
   },
   {
    "duration": 0,
    "start_time": "2024-01-22T20:51:19.077Z"
   },
   {
    "duration": 0,
    "start_time": "2024-01-22T20:51:19.078Z"
   },
   {
    "duration": 0,
    "start_time": "2024-01-22T20:51:19.080Z"
   },
   {
    "duration": 0,
    "start_time": "2024-01-22T20:51:19.082Z"
   },
   {
    "duration": 593,
    "start_time": "2024-01-22T20:52:30.834Z"
   },
   {
    "duration": 815,
    "start_time": "2024-01-22T20:54:39.323Z"
   },
   {
    "duration": 883,
    "start_time": "2024-01-22T21:09:50.733Z"
   },
   {
    "duration": 278,
    "start_time": "2024-01-22T22:27:58.124Z"
   },
   {
    "duration": 282,
    "start_time": "2024-01-22T22:29:10.784Z"
   },
   {
    "duration": 285,
    "start_time": "2024-01-22T22:29:29.226Z"
   },
   {
    "duration": 285,
    "start_time": "2024-01-22T22:29:42.732Z"
   },
   {
    "duration": 36,
    "start_time": "2024-01-22T22:30:39.378Z"
   },
   {
    "duration": 2413,
    "start_time": "2024-01-22T22:30:56.094Z"
   },
   {
    "duration": 1104,
    "start_time": "2024-01-22T22:30:58.509Z"
   },
   {
    "duration": 4,
    "start_time": "2024-01-22T22:30:59.614Z"
   },
   {
    "duration": 8,
    "start_time": "2024-01-22T22:30:59.619Z"
   },
   {
    "duration": 14,
    "start_time": "2024-01-22T22:30:59.628Z"
   },
   {
    "duration": 533,
    "start_time": "2024-01-22T22:30:59.643Z"
   },
   {
    "duration": 248,
    "start_time": "2024-01-22T22:31:00.178Z"
   },
   {
    "duration": 3,
    "start_time": "2024-01-22T22:31:00.428Z"
   },
   {
    "duration": 174,
    "start_time": "2024-01-22T22:31:00.432Z"
   },
   {
    "duration": 42,
    "start_time": "2024-01-22T22:31:00.608Z"
   },
   {
    "duration": 208,
    "start_time": "2024-01-22T22:31:00.659Z"
   },
   {
    "duration": 394,
    "start_time": "2024-01-22T22:31:00.869Z"
   },
   {
    "duration": 26,
    "start_time": "2024-01-22T22:31:01.265Z"
   },
   {
    "duration": 31,
    "start_time": "2024-01-22T22:31:01.293Z"
   },
   {
    "duration": 65,
    "start_time": "2024-01-22T22:31:01.326Z"
   },
   {
    "duration": 27,
    "start_time": "2024-01-22T22:31:01.392Z"
   },
   {
    "duration": 122,
    "start_time": "2024-01-22T22:31:01.421Z"
   },
   {
    "duration": 61,
    "start_time": "2024-01-22T22:31:01.545Z"
   },
   {
    "duration": 570,
    "start_time": "2024-01-22T22:31:01.608Z"
   },
   {
    "duration": 61,
    "start_time": "2024-01-22T22:31:02.180Z"
   },
   {
    "duration": 0,
    "start_time": "2024-01-22T22:31:02.242Z"
   },
   {
    "duration": 0,
    "start_time": "2024-01-22T22:31:02.244Z"
   },
   {
    "duration": 0,
    "start_time": "2024-01-22T22:31:02.258Z"
   },
   {
    "duration": 0,
    "start_time": "2024-01-22T22:31:02.259Z"
   },
   {
    "duration": 0,
    "start_time": "2024-01-22T22:31:02.260Z"
   },
   {
    "duration": 0,
    "start_time": "2024-01-22T22:31:02.261Z"
   },
   {
    "duration": 27,
    "start_time": "2024-01-22T22:31:37.375Z"
   },
   {
    "duration": 32,
    "start_time": "2024-01-22T22:31:49.264Z"
   },
   {
    "duration": 30,
    "start_time": "2024-01-22T22:31:49.298Z"
   },
   {
    "duration": 215,
    "start_time": "2024-01-22T22:31:49.329Z"
   },
   {
    "duration": 22,
    "start_time": "2024-01-22T22:31:49.546Z"
   },
   {
    "duration": 35,
    "start_time": "2024-01-22T22:31:49.570Z"
   },
   {
    "duration": 11,
    "start_time": "2024-01-22T22:31:49.607Z"
   },
   {
    "duration": 2420,
    "start_time": "2024-01-22T22:39:31.654Z"
   },
   {
    "duration": 1121,
    "start_time": "2024-01-22T22:39:34.076Z"
   },
   {
    "duration": 3,
    "start_time": "2024-01-22T22:39:35.199Z"
   },
   {
    "duration": 11,
    "start_time": "2024-01-22T22:39:35.204Z"
   },
   {
    "duration": 5,
    "start_time": "2024-01-22T22:39:35.216Z"
   },
   {
    "duration": 510,
    "start_time": "2024-01-22T22:39:35.222Z"
   },
   {
    "duration": 249,
    "start_time": "2024-01-22T22:39:35.734Z"
   },
   {
    "duration": 4,
    "start_time": "2024-01-22T22:39:35.984Z"
   },
   {
    "duration": 161,
    "start_time": "2024-01-22T22:39:35.989Z"
   },
   {
    "duration": 48,
    "start_time": "2024-01-22T22:39:36.152Z"
   },
   {
    "duration": 195,
    "start_time": "2024-01-22T22:39:36.201Z"
   },
   {
    "duration": 393,
    "start_time": "2024-01-22T22:39:36.398Z"
   },
   {
    "duration": 24,
    "start_time": "2024-01-22T22:39:36.793Z"
   },
   {
    "duration": 49,
    "start_time": "2024-01-22T22:39:36.819Z"
   },
   {
    "duration": 39,
    "start_time": "2024-01-22T22:39:36.870Z"
   },
   {
    "duration": 26,
    "start_time": "2024-01-22T22:39:36.910Z"
   },
   {
    "duration": 113,
    "start_time": "2024-01-22T22:39:36.937Z"
   },
   {
    "duration": 56,
    "start_time": "2024-01-22T22:39:37.059Z"
   },
   {
    "duration": 541,
    "start_time": "2024-01-22T22:39:37.116Z"
   },
   {
    "duration": 27,
    "start_time": "2024-01-22T22:39:37.658Z"
   },
   {
    "duration": 82,
    "start_time": "2024-01-22T22:39:37.687Z"
   },
   {
    "duration": 33,
    "start_time": "2024-01-22T22:39:37.771Z"
   },
   {
    "duration": 243,
    "start_time": "2024-01-22T22:39:37.806Z"
   },
   {
    "duration": 20,
    "start_time": "2024-01-22T22:39:38.050Z"
   },
   {
    "duration": 29,
    "start_time": "2024-01-22T22:39:38.072Z"
   },
   {
    "duration": 4,
    "start_time": "2024-01-22T22:39:38.103Z"
   },
   {
    "duration": 3652,
    "start_time": "2024-01-23T08:35:43.345Z"
   },
   {
    "duration": 1164,
    "start_time": "2024-01-23T08:35:46.999Z"
   },
   {
    "duration": 4,
    "start_time": "2024-01-23T08:35:48.165Z"
   },
   {
    "duration": 12,
    "start_time": "2024-01-23T08:35:48.171Z"
   },
   {
    "duration": 10,
    "start_time": "2024-01-23T08:35:48.186Z"
   },
   {
    "duration": 632,
    "start_time": "2024-01-23T08:35:48.198Z"
   },
   {
    "duration": 271,
    "start_time": "2024-01-23T08:35:48.831Z"
   },
   {
    "duration": 5,
    "start_time": "2024-01-23T08:35:49.104Z"
   },
   {
    "duration": 186,
    "start_time": "2024-01-23T08:35:49.110Z"
   },
   {
    "duration": 47,
    "start_time": "2024-01-23T08:35:49.298Z"
   },
   {
    "duration": 223,
    "start_time": "2024-01-23T08:35:49.347Z"
   },
   {
    "duration": 431,
    "start_time": "2024-01-23T08:35:49.572Z"
   },
   {
    "duration": 28,
    "start_time": "2024-01-23T08:35:50.004Z"
   },
   {
    "duration": 52,
    "start_time": "2024-01-23T08:35:50.034Z"
   },
   {
    "duration": 42,
    "start_time": "2024-01-23T08:35:50.087Z"
   },
   {
    "duration": 58,
    "start_time": "2024-01-23T08:35:50.131Z"
   },
   {
    "duration": 113,
    "start_time": "2024-01-23T08:35:50.190Z"
   },
   {
    "duration": 60,
    "start_time": "2024-01-23T08:35:50.305Z"
   },
   {
    "duration": 779,
    "start_time": "2024-01-23T08:35:50.366Z"
   },
   {
    "duration": 48,
    "start_time": "2024-01-23T08:35:51.146Z"
   },
   {
    "duration": 87,
    "start_time": "2024-01-23T08:35:51.196Z"
   },
   {
    "duration": 33,
    "start_time": "2024-01-23T08:35:51.284Z"
   },
   {
    "duration": 250,
    "start_time": "2024-01-23T08:35:51.319Z"
   },
   {
    "duration": 21,
    "start_time": "2024-01-23T08:35:51.571Z"
   },
   {
    "duration": 69,
    "start_time": "2024-01-23T08:35:51.594Z"
   },
   {
    "duration": 23,
    "start_time": "2024-01-23T08:35:51.664Z"
   },
   {
    "duration": 2846,
    "start_time": "2024-01-23T08:59:29.194Z"
   },
   {
    "duration": 1211,
    "start_time": "2024-01-23T08:59:32.043Z"
   },
   {
    "duration": 4,
    "start_time": "2024-01-23T08:59:33.256Z"
   },
   {
    "duration": 24,
    "start_time": "2024-01-23T08:59:33.262Z"
   },
   {
    "duration": 58,
    "start_time": "2024-01-23T08:59:33.288Z"
   },
   {
    "duration": 410,
    "start_time": "2024-01-23T08:59:33.348Z"
   },
   {
    "duration": 268,
    "start_time": "2024-01-23T08:59:33.760Z"
   },
   {
    "duration": 3,
    "start_time": "2024-01-23T08:59:34.030Z"
   },
   {
    "duration": 177,
    "start_time": "2024-01-23T08:59:34.035Z"
   },
   {
    "duration": 45,
    "start_time": "2024-01-23T08:59:34.215Z"
   },
   {
    "duration": 223,
    "start_time": "2024-01-23T08:59:34.261Z"
   },
   {
    "duration": 433,
    "start_time": "2024-01-23T08:59:34.485Z"
   },
   {
    "duration": 26,
    "start_time": "2024-01-23T08:59:34.919Z"
   },
   {
    "duration": 82,
    "start_time": "2024-01-23T08:59:34.947Z"
   },
   {
    "duration": 48,
    "start_time": "2024-01-23T08:59:35.030Z"
   },
   {
    "duration": 45,
    "start_time": "2024-01-23T08:59:35.080Z"
   },
   {
    "duration": 118,
    "start_time": "2024-01-23T08:59:35.126Z"
   },
   {
    "duration": 70,
    "start_time": "2024-01-23T08:59:35.246Z"
   },
   {
    "duration": 741,
    "start_time": "2024-01-23T08:59:35.318Z"
   },
   {
    "duration": 34,
    "start_time": "2024-01-23T08:59:36.060Z"
   },
   {
    "duration": 86,
    "start_time": "2024-01-23T08:59:36.096Z"
   },
   {
    "duration": 34,
    "start_time": "2024-01-23T08:59:36.184Z"
   },
   {
    "duration": 267,
    "start_time": "2024-01-23T08:59:36.220Z"
   },
   {
    "duration": 17,
    "start_time": "2024-01-23T08:59:36.489Z"
   },
   {
    "duration": 36,
    "start_time": "2024-01-23T08:59:36.508Z"
   },
   {
    "duration": 33,
    "start_time": "2024-01-23T08:59:36.546Z"
   },
   {
    "duration": 91,
    "start_time": "2024-01-23T09:03:54.698Z"
   },
   {
    "duration": 3377,
    "start_time": "2024-01-23T10:25:06.793Z"
   },
   {
    "duration": 1393,
    "start_time": "2024-01-23T10:25:10.173Z"
   },
   {
    "duration": 3,
    "start_time": "2024-01-23T10:25:11.568Z"
   },
   {
    "duration": 16,
    "start_time": "2024-01-23T10:25:11.574Z"
   },
   {
    "duration": 29,
    "start_time": "2024-01-23T10:25:11.592Z"
   },
   {
    "duration": 505,
    "start_time": "2024-01-23T10:25:11.623Z"
   },
   {
    "duration": 257,
    "start_time": "2024-01-23T10:25:12.130Z"
   },
   {
    "duration": 3,
    "start_time": "2024-01-23T10:25:12.389Z"
   },
   {
    "duration": 191,
    "start_time": "2024-01-23T10:25:12.394Z"
   },
   {
    "duration": 44,
    "start_time": "2024-01-23T10:25:12.587Z"
   },
   {
    "duration": 208,
    "start_time": "2024-01-23T10:25:12.632Z"
   },
   {
    "duration": 418,
    "start_time": "2024-01-23T10:25:12.841Z"
   },
   {
    "duration": 25,
    "start_time": "2024-01-23T10:25:13.265Z"
   },
   {
    "duration": 35,
    "start_time": "2024-01-23T10:25:13.292Z"
   },
   {
    "duration": 64,
    "start_time": "2024-01-23T10:25:13.328Z"
   },
   {
    "duration": 26,
    "start_time": "2024-01-23T10:25:13.394Z"
   },
   {
    "duration": 114,
    "start_time": "2024-01-23T10:25:13.422Z"
   },
   {
    "duration": 64,
    "start_time": "2024-01-23T10:25:13.537Z"
   },
   {
    "duration": 312,
    "start_time": "2024-01-23T10:25:18.016Z"
   },
   {
    "duration": 80,
    "start_time": "2024-01-23T10:25:37.498Z"
   },
   {
    "duration": 662,
    "start_time": "2024-01-23T10:29:36.679Z"
   },
   {
    "duration": 3026,
    "start_time": "2024-01-23T11:04:10.088Z"
   },
   {
    "duration": 1210,
    "start_time": "2024-01-23T11:04:13.116Z"
   },
   {
    "duration": 3,
    "start_time": "2024-01-23T11:04:14.328Z"
   },
   {
    "duration": 10,
    "start_time": "2024-01-23T11:04:14.333Z"
   },
   {
    "duration": 11,
    "start_time": "2024-01-23T11:04:14.344Z"
   },
   {
    "duration": 529,
    "start_time": "2024-01-23T11:04:14.365Z"
   },
   {
    "duration": 257,
    "start_time": "2024-01-23T11:04:14.896Z"
   },
   {
    "duration": 14,
    "start_time": "2024-01-23T11:04:15.154Z"
   },
   {
    "duration": 200,
    "start_time": "2024-01-23T11:04:15.169Z"
   },
   {
    "duration": 43,
    "start_time": "2024-01-23T11:04:15.372Z"
   },
   {
    "duration": 222,
    "start_time": "2024-01-23T11:04:15.417Z"
   },
   {
    "duration": 457,
    "start_time": "2024-01-23T11:04:15.641Z"
   },
   {
    "duration": 28,
    "start_time": "2024-01-23T11:04:16.100Z"
   },
   {
    "duration": 48,
    "start_time": "2024-01-23T11:04:16.129Z"
   },
   {
    "duration": 41,
    "start_time": "2024-01-23T11:04:16.178Z"
   },
   {
    "duration": 44,
    "start_time": "2024-01-23T11:04:16.221Z"
   },
   {
    "duration": 112,
    "start_time": "2024-01-23T11:04:16.267Z"
   },
   {
    "duration": 59,
    "start_time": "2024-01-23T11:04:16.381Z"
   },
   {
    "duration": 550,
    "start_time": "2024-01-23T11:04:16.442Z"
   },
   {
    "duration": 27,
    "start_time": "2024-01-23T11:04:16.994Z"
   },
   {
    "duration": 60,
    "start_time": "2024-01-23T11:04:17.022Z"
   },
   {
    "duration": 32,
    "start_time": "2024-01-23T11:04:17.083Z"
   },
   {
    "duration": 260,
    "start_time": "2024-01-23T11:04:17.117Z"
   },
   {
    "duration": 16,
    "start_time": "2024-01-23T11:04:17.379Z"
   },
   {
    "duration": 46,
    "start_time": "2024-01-23T11:04:17.397Z"
   },
   {
    "duration": 12,
    "start_time": "2024-01-23T11:04:17.445Z"
   },
   {
    "duration": 2417,
    "start_time": "2024-01-23T11:06:40.942Z"
   },
   {
    "duration": 1143,
    "start_time": "2024-01-23T11:06:43.361Z"
   },
   {
    "duration": 3,
    "start_time": "2024-01-23T11:06:44.505Z"
   },
   {
    "duration": 27,
    "start_time": "2024-01-23T11:06:44.510Z"
   },
   {
    "duration": 68,
    "start_time": "2024-01-23T11:06:44.538Z"
   },
   {
    "duration": 524,
    "start_time": "2024-01-23T11:06:44.607Z"
   },
   {
    "duration": 267,
    "start_time": "2024-01-23T11:06:45.133Z"
   },
   {
    "duration": 4,
    "start_time": "2024-01-23T11:06:45.401Z"
   },
   {
    "duration": 188,
    "start_time": "2024-01-23T11:06:45.406Z"
   },
   {
    "duration": 45,
    "start_time": "2024-01-23T11:06:45.596Z"
   },
   {
    "duration": 220,
    "start_time": "2024-01-23T11:06:45.642Z"
   },
   {
    "duration": 424,
    "start_time": "2024-01-23T11:06:45.866Z"
   },
   {
    "duration": 25,
    "start_time": "2024-01-23T11:06:46.291Z"
   },
   {
    "duration": 48,
    "start_time": "2024-01-23T11:06:46.318Z"
   },
   {
    "duration": 46,
    "start_time": "2024-01-23T11:06:46.368Z"
   },
   {
    "duration": 25,
    "start_time": "2024-01-23T11:06:46.416Z"
   },
   {
    "duration": 128,
    "start_time": "2024-01-23T11:06:46.466Z"
   },
   {
    "duration": 60,
    "start_time": "2024-01-23T11:06:46.595Z"
   },
   {
    "duration": 533,
    "start_time": "2024-01-23T11:06:46.656Z"
   },
   {
    "duration": 28,
    "start_time": "2024-01-23T11:06:47.191Z"
   },
   {
    "duration": 72,
    "start_time": "2024-01-23T11:06:47.220Z"
   },
   {
    "duration": 79,
    "start_time": "2024-01-23T11:06:47.293Z"
   },
   {
    "duration": 208,
    "start_time": "2024-01-23T11:06:47.374Z"
   },
   {
    "duration": 18,
    "start_time": "2024-01-23T11:06:47.583Z"
   },
   {
    "duration": 94,
    "start_time": "2024-01-23T11:06:47.603Z"
   },
   {
    "duration": 41,
    "start_time": "2024-01-23T11:06:47.699Z"
   },
   {
    "duration": 3370,
    "start_time": "2024-01-23T19:32:04.344Z"
   },
   {
    "duration": 1152,
    "start_time": "2024-01-23T19:32:07.716Z"
   },
   {
    "duration": 3,
    "start_time": "2024-01-23T19:32:08.870Z"
   },
   {
    "duration": 38,
    "start_time": "2024-01-23T19:32:08.879Z"
   },
   {
    "duration": 72,
    "start_time": "2024-01-23T19:32:08.919Z"
   },
   {
    "duration": 411,
    "start_time": "2024-01-23T19:32:08.993Z"
   },
   {
    "duration": 280,
    "start_time": "2024-01-23T19:32:09.405Z"
   },
   {
    "duration": 5,
    "start_time": "2024-01-23T19:32:09.686Z"
   },
   {
    "duration": 179,
    "start_time": "2024-01-23T19:32:09.692Z"
   },
   {
    "duration": 46,
    "start_time": "2024-01-23T19:32:09.873Z"
   },
   {
    "duration": 218,
    "start_time": "2024-01-23T19:32:09.921Z"
   },
   {
    "duration": 439,
    "start_time": "2024-01-23T19:32:10.141Z"
   },
   {
    "duration": 29,
    "start_time": "2024-01-23T19:32:10.582Z"
   },
   {
    "duration": 37,
    "start_time": "2024-01-23T19:32:10.613Z"
   },
   {
    "duration": 72,
    "start_time": "2024-01-23T19:32:10.652Z"
   },
   {
    "duration": 30,
    "start_time": "2024-01-23T19:32:10.725Z"
   },
   {
    "duration": 123,
    "start_time": "2024-01-23T19:32:10.757Z"
   },
   {
    "duration": 61,
    "start_time": "2024-01-23T19:32:10.882Z"
   },
   {
    "duration": 766,
    "start_time": "2024-01-23T19:32:10.944Z"
   },
   {
    "duration": 26,
    "start_time": "2024-01-23T19:32:11.711Z"
   },
   {
    "duration": 75,
    "start_time": "2024-01-23T19:32:11.739Z"
   },
   {
    "duration": 70,
    "start_time": "2024-01-23T19:32:11.815Z"
   },
   {
    "duration": 263,
    "start_time": "2024-01-23T19:32:11.886Z"
   },
   {
    "duration": 20,
    "start_time": "2024-01-23T19:32:12.150Z"
   },
   {
    "duration": 34,
    "start_time": "2024-01-23T19:32:12.172Z"
   },
   {
    "duration": 15,
    "start_time": "2024-01-23T19:32:12.208Z"
   },
   {
    "duration": 3389,
    "start_time": "2024-01-23T21:16:33.571Z"
   },
   {
    "duration": 1414,
    "start_time": "2024-01-23T21:16:36.962Z"
   },
   {
    "duration": 3,
    "start_time": "2024-01-23T21:16:38.379Z"
   },
   {
    "duration": 8,
    "start_time": "2024-01-23T21:16:38.384Z"
   },
   {
    "duration": 20,
    "start_time": "2024-01-23T21:16:38.393Z"
   },
   {
    "duration": 489,
    "start_time": "2024-01-23T21:16:38.415Z"
   },
   {
    "duration": 276,
    "start_time": "2024-01-23T21:16:38.905Z"
   },
   {
    "duration": 4,
    "start_time": "2024-01-23T21:16:39.182Z"
   },
   {
    "duration": 188,
    "start_time": "2024-01-23T21:16:39.188Z"
   },
   {
    "duration": 46,
    "start_time": "2024-01-23T21:16:39.379Z"
   },
   {
    "duration": 235,
    "start_time": "2024-01-23T21:16:39.427Z"
   },
   {
    "duration": 420,
    "start_time": "2024-01-23T21:16:39.664Z"
   },
   {
    "duration": 26,
    "start_time": "2024-01-23T21:16:40.085Z"
   },
   {
    "duration": 34,
    "start_time": "2024-01-23T21:16:40.113Z"
   },
   {
    "duration": 66,
    "start_time": "2024-01-23T21:16:40.149Z"
   },
   {
    "duration": 27,
    "start_time": "2024-01-23T21:16:40.217Z"
   },
   {
    "duration": 115,
    "start_time": "2024-01-23T21:16:40.246Z"
   },
   {
    "duration": 63,
    "start_time": "2024-01-23T21:16:40.362Z"
   },
   {
    "duration": 2766,
    "start_time": "2024-01-23T21:16:40.427Z"
   },
   {
    "duration": 28,
    "start_time": "2024-01-23T21:16:43.194Z"
   },
   {
    "duration": 79,
    "start_time": "2024-01-23T21:16:43.224Z"
   },
   {
    "duration": 86,
    "start_time": "2024-01-23T21:16:43.305Z"
   },
   {
    "duration": 236,
    "start_time": "2024-01-23T21:16:43.393Z"
   },
   {
    "duration": 18,
    "start_time": "2024-01-23T21:16:43.631Z"
   },
   {
    "duration": 46,
    "start_time": "2024-01-23T21:16:43.650Z"
   },
   {
    "duration": 3,
    "start_time": "2024-01-23T21:16:43.698Z"
   },
   {
    "duration": 2648,
    "start_time": "2024-01-23T21:54:54.006Z"
   },
   {
    "duration": 1234,
    "start_time": "2024-01-23T21:54:56.656Z"
   },
   {
    "duration": 4,
    "start_time": "2024-01-23T21:54:57.892Z"
   },
   {
    "duration": 16,
    "start_time": "2024-01-23T21:54:57.897Z"
   },
   {
    "duration": 24,
    "start_time": "2024-01-23T21:54:57.915Z"
   },
   {
    "duration": 659,
    "start_time": "2024-01-23T21:54:57.941Z"
   },
   {
    "duration": 295,
    "start_time": "2024-01-23T21:54:58.602Z"
   },
   {
    "duration": 9,
    "start_time": "2024-01-23T21:54:58.898Z"
   },
   {
    "duration": 176,
    "start_time": "2024-01-23T21:54:58.908Z"
   },
   {
    "duration": 52,
    "start_time": "2024-01-23T21:54:59.086Z"
   },
   {
    "duration": 220,
    "start_time": "2024-01-23T21:54:59.139Z"
   },
   {
    "duration": 476,
    "start_time": "2024-01-23T21:54:59.361Z"
   },
   {
    "duration": 44,
    "start_time": "2024-01-23T21:54:59.839Z"
   },
   {
    "duration": 36,
    "start_time": "2024-01-23T21:54:59.885Z"
   },
   {
    "duration": 59,
    "start_time": "2024-01-23T21:54:59.922Z"
   },
   {
    "duration": 28,
    "start_time": "2024-01-23T21:54:59.983Z"
   },
   {
    "duration": 155,
    "start_time": "2024-01-23T21:55:00.012Z"
   },
   {
    "duration": 62,
    "start_time": "2024-01-23T21:55:00.169Z"
   },
   {
    "duration": 230,
    "start_time": "2024-01-23T21:55:00.232Z"
   },
   {
    "duration": 0,
    "start_time": "2024-01-23T21:55:00.464Z"
   },
   {
    "duration": 0,
    "start_time": "2024-01-23T21:55:00.465Z"
   },
   {
    "duration": 0,
    "start_time": "2024-01-23T21:55:00.466Z"
   },
   {
    "duration": 0,
    "start_time": "2024-01-23T21:55:00.467Z"
   },
   {
    "duration": 0,
    "start_time": "2024-01-23T21:55:00.468Z"
   },
   {
    "duration": 0,
    "start_time": "2024-01-23T21:55:00.481Z"
   },
   {
    "duration": 0,
    "start_time": "2024-01-23T21:55:00.482Z"
   },
   {
    "duration": 12,
    "start_time": "2024-01-23T21:56:06.197Z"
   },
   {
    "duration": 12,
    "start_time": "2024-01-23T21:58:25.381Z"
   },
   {
    "duration": 20,
    "start_time": "2024-01-23T22:01:45.825Z"
   },
   {
    "duration": 16,
    "start_time": "2024-01-23T22:05:15.203Z"
   },
   {
    "duration": 16,
    "start_time": "2024-01-23T22:07:00.611Z"
   },
   {
    "duration": 315,
    "start_time": "2024-01-23T22:10:02.018Z"
   },
   {
    "duration": 24,
    "start_time": "2024-01-23T22:15:28.965Z"
   },
   {
    "duration": 17,
    "start_time": "2024-01-23T22:18:20.881Z"
   },
   {
    "duration": 2631,
    "start_time": "2024-01-23T22:21:10.413Z"
   },
   {
    "duration": 1202,
    "start_time": "2024-01-23T22:21:13.047Z"
   },
   {
    "duration": 4,
    "start_time": "2024-01-23T22:21:14.250Z"
   },
   {
    "duration": 29,
    "start_time": "2024-01-23T22:21:14.256Z"
   },
   {
    "duration": 48,
    "start_time": "2024-01-23T22:21:14.287Z"
   },
   {
    "duration": 470,
    "start_time": "2024-01-23T22:21:14.337Z"
   },
   {
    "duration": 285,
    "start_time": "2024-01-23T22:21:14.808Z"
   },
   {
    "duration": 4,
    "start_time": "2024-01-23T22:21:15.095Z"
   },
   {
    "duration": 215,
    "start_time": "2024-01-23T22:21:15.101Z"
   },
   {
    "duration": 62,
    "start_time": "2024-01-23T22:21:15.319Z"
   },
   {
    "duration": 215,
    "start_time": "2024-01-23T22:21:15.383Z"
   },
   {
    "duration": 445,
    "start_time": "2024-01-23T22:21:15.600Z"
   },
   {
    "duration": 51,
    "start_time": "2024-01-23T22:21:16.047Z"
   },
   {
    "duration": 42,
    "start_time": "2024-01-23T22:21:16.100Z"
   },
   {
    "duration": 59,
    "start_time": "2024-01-23T22:21:16.144Z"
   },
   {
    "duration": 30,
    "start_time": "2024-01-23T22:21:16.204Z"
   },
   {
    "duration": 140,
    "start_time": "2024-01-23T22:21:16.236Z"
   },
   {
    "duration": 61,
    "start_time": "2024-01-23T22:21:16.381Z"
   },
   {
    "duration": 203,
    "start_time": "2024-01-23T22:21:16.443Z"
   },
   {
    "duration": 46,
    "start_time": "2024-01-23T22:21:16.647Z"
   },
   {
    "duration": 87,
    "start_time": "2024-01-23T22:21:16.695Z"
   },
   {
    "duration": 34,
    "start_time": "2024-01-23T22:21:16.783Z"
   },
   {
    "duration": 252,
    "start_time": "2024-01-23T22:21:16.818Z"
   },
   {
    "duration": 21,
    "start_time": "2024-01-23T22:21:17.072Z"
   },
   {
    "duration": 30,
    "start_time": "2024-01-23T22:21:17.095Z"
   },
   {
    "duration": 5,
    "start_time": "2024-01-23T22:21:17.127Z"
   }
  ],
  "kernelspec": {
   "display_name": "Python 3 (ipykernel)",
   "language": "python",
   "name": "python3"
  },
  "language_info": {
   "codemirror_mode": {
    "name": "ipython",
    "version": 3
   },
   "file_extension": ".py",
   "mimetype": "text/x-python",
   "name": "python",
   "nbconvert_exporter": "python",
   "pygments_lexer": "ipython3",
   "version": "3.9.18"
  },
  "toc": {
   "base_numbering": 1,
   "nav_menu": {},
   "number_sections": true,
   "sideBar": true,
   "skip_h1_title": true,
   "title_cell": "Table of Contents",
   "title_sidebar": "Contents",
   "toc_cell": false,
   "toc_position": {},
   "toc_section_display": true,
   "toc_window_display": false
  }
 },
 "nbformat": 4,
 "nbformat_minor": 2
}
